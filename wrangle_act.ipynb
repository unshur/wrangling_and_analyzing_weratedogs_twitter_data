{
 "cells": [
  {
   "cell_type": "markdown",
   "metadata": {
    "extensions": {
     "jupyter_dashboards": {
      "version": 1,
      "views": {
       "grid_default": {
        "col": 0,
        "height": 4,
        "hidden": false,
        "row": 0,
        "width": 4
       },
       "report_default": {
        "hidden": false
       }
      }
     }
    }
   },
   "source": [
    "# Project: Wrangling and Analyzing *WeRateDogs* Data\n",
    "\n",
    "### Submitted by: Ahmed Mohamed Hussein Unshur\n",
    "\n",
    "----------------------------"
   ]
  },
  {
   "cell_type": "markdown",
   "metadata": {},
   "source": [
    "### Table of Contents:\n",
    "\n",
    "\n",
    "\n",
    "<ul>\n",
    "<li><a href=\"#introduction\">1. Introduction</a></li>\n",
    "<li><a href=\"#gathering\">2. Data Gathering</a></li>\n",
    "    <li><a href=\"#gathering-1\">2.1. WeRateDogs Twitter Archive</a></li>\n",
    "    <li><a href=\"#gathering-2\">2.2. Tweet Image Predictions</a></li>\n",
    "    <li><a href=\"#gathering-3\">2.3. Additional Data from the Twitter API</a></li>\n",
    "<li><a href=\"#assessing\">3. Assessing Data</a></li>\n",
    "    <li><a href=\"#assessing-1\">3.1. Assessing Twitter Archive Data</a></li>\n",
    "    <li><a href=\"#assessing-2\">3.2. Assessing Tweet Image Predictions Data</a></li>\n",
    "    <li><a href=\"#assessing-3\">3.3. Assessing Data from the Twitter API</a></li>\n",
    "    <li><a href=\"#summary\">3.4. Summary of Identified Quality and Tidiness Issues</a></li>\n",
    "<li><a href=\"#cleaning\">4. Cleaning Data</a></li>\n",
    "    <li><a href=\"#quality-issues\">4.1. Cleaning Quality Issues</a></li>\n",
    "    <li><a href=\"#tidiness-issues\">4.2. Cleaning Tidiness Issues</a></li>\n",
    "    <li><a href=\"#storing-data\">4.3. Storing Data</a></li>\n",
    "<li><a href=\"#analysis\">5. Analyzing and Visualizing Data</a></li>\n",
    "<li><a href=\"#conclusion\">6. Conclusion</a></li>\n",
    "<li><a href=\"#references\">7. References</a></li>\n",
    "    \n",
    "    \n",
    "    "
   ]
  },
  {
   "cell_type": "markdown",
   "metadata": {},
   "source": [
    "<a id='introduction'></a>\n",
    "## 1. Introduction\n",
    "\n",
    "The following report presents a data wrangling project that was completed as part of [Udacity’s Data Analyst Nanodegree](https://www.udacity.com/course/data-analyst-nanodegree--nd002) program.\n",
    "\n",
    "Data collected from the real-world is mostly dirty and messy, which is why it’s important to acquire a number of skills of handling and cleaning such data. \n",
    "\n",
    "The dataset that was wrangled (and then analyzed and visualized) is the tweet archive of the Twitter account [@dog_rates](https://twitter.com/dog_rates), also known as [WeRateDogs](https://en.wikipedia.org/wiki/WeRateDogs).\n",
    "\n",
    "For this project, we have followed the wrangling process of gathering, assessing, and cleaning data."
   ]
  },
  {
   "cell_type": "markdown",
   "metadata": {},
   "source": [
    "<a id='gathering'></a>\n",
    "## 2. Data Gathering\n",
    "\n"
   ]
  },
  {
   "cell_type": "markdown",
   "metadata": {},
   "source": [
    "\n",
    "Before starting data gathering, we will import required Python libraries.\n"
   ]
  },
  {
   "cell_type": "code",
   "execution_count": 1,
   "metadata": {},
   "outputs": [],
   "source": [
    "# Import required packages.\n",
    "import numpy as np\n",
    "import pandas as pd\n",
    "import matplotlib.pyplot as plt\n",
    "import seaborn as sb\n",
    "import requests\n",
    "import tweepy\n",
    "import json\n",
    "\n",
    "\n",
    "# Enable inline plotting.\n",
    "%matplotlib inline\n",
    "\n",
    "# Set seaborn's default theme.\n",
    "sb.set_theme()\n",
    "\n",
    "# Ignore warnings.\n",
    "import warnings\n",
    "warnings.filterwarnings('ignore')"
   ]
  },
  {
   "cell_type": "markdown",
   "metadata": {},
   "source": [
    "We will gather three datasets using three different methods. "
   ]
  },
  {
   "cell_type": "markdown",
   "metadata": {},
   "source": [
    "<a id='gathering-1'></a>\n",
    "### 2.1. WeRateDogs Twitter Archive"
   ]
  },
  {
   "cell_type": "markdown",
   "metadata": {},
   "source": [
    "This dataset was provided by Udacity as a CSV file. We downloaded manually from the following link: https://d17h27t6h515a5.cloudfront.net/topher/2017/August/59a4e958_twitter-archive-enhanced/twitter-archive-enhanced.csv"
   ]
  },
  {
   "cell_type": "code",
   "execution_count": 2,
   "metadata": {
    "extensions": {
     "jupyter_dashboards": {
      "version": 1,
      "views": {
       "grid_default": {
        "hidden": true
       },
       "report_default": {
        "hidden": true
       }
      }
     }
    }
   },
   "outputs": [],
   "source": [
    "# Load 'Twitter archive enhanced' dataset.\n",
    "twitter_archive = pd.read_csv('twitter-archive-enhanced.csv') "
   ]
  },
  {
   "cell_type": "code",
   "execution_count": 3,
   "metadata": {},
   "outputs": [
    {
     "data": {
      "text/html": [
       "<div>\n",
       "<style scoped>\n",
       "    .dataframe tbody tr th:only-of-type {\n",
       "        vertical-align: middle;\n",
       "    }\n",
       "\n",
       "    .dataframe tbody tr th {\n",
       "        vertical-align: top;\n",
       "    }\n",
       "\n",
       "    .dataframe thead th {\n",
       "        text-align: right;\n",
       "    }\n",
       "</style>\n",
       "<table border=\"1\" class=\"dataframe\">\n",
       "  <thead>\n",
       "    <tr style=\"text-align: right;\">\n",
       "      <th></th>\n",
       "      <th>tweet_id</th>\n",
       "      <th>in_reply_to_status_id</th>\n",
       "      <th>in_reply_to_user_id</th>\n",
       "      <th>timestamp</th>\n",
       "      <th>source</th>\n",
       "      <th>text</th>\n",
       "      <th>retweeted_status_id</th>\n",
       "      <th>retweeted_status_user_id</th>\n",
       "      <th>retweeted_status_timestamp</th>\n",
       "      <th>expanded_urls</th>\n",
       "      <th>rating_numerator</th>\n",
       "      <th>rating_denominator</th>\n",
       "      <th>name</th>\n",
       "      <th>doggo</th>\n",
       "      <th>floofer</th>\n",
       "      <th>pupper</th>\n",
       "      <th>puppo</th>\n",
       "    </tr>\n",
       "  </thead>\n",
       "  <tbody>\n",
       "    <tr>\n",
       "      <th>1592</th>\n",
       "      <td>686394059078897668</td>\n",
       "      <td>NaN</td>\n",
       "      <td>NaN</td>\n",
       "      <td>2016-01-11 03:47:50 +0000</td>\n",
       "      <td>&lt;a href=\"http://vine.co\" rel=\"nofollow\"&gt;Vine -...</td>\n",
       "      <td>This pup's having a nightmare that he forgot t...</td>\n",
       "      <td>NaN</td>\n",
       "      <td>NaN</td>\n",
       "      <td>NaN</td>\n",
       "      <td>https://vine.co/v/iMqBebnOvav</td>\n",
       "      <td>12</td>\n",
       "      <td>10</td>\n",
       "      <td>None</td>\n",
       "      <td>None</td>\n",
       "      <td>None</td>\n",
       "      <td>None</td>\n",
       "      <td>None</td>\n",
       "    </tr>\n",
       "  </tbody>\n",
       "</table>\n",
       "</div>"
      ],
      "text/plain": [
       "                tweet_id  in_reply_to_status_id  in_reply_to_user_id  \\\n",
       "1592  686394059078897668                    NaN                  NaN   \n",
       "\n",
       "                      timestamp  \\\n",
       "1592  2016-01-11 03:47:50 +0000   \n",
       "\n",
       "                                                 source  \\\n",
       "1592  <a href=\"http://vine.co\" rel=\"nofollow\">Vine -...   \n",
       "\n",
       "                                                   text  retweeted_status_id  \\\n",
       "1592  This pup's having a nightmare that he forgot t...                  NaN   \n",
       "\n",
       "      retweeted_status_user_id retweeted_status_timestamp  \\\n",
       "1592                       NaN                        NaN   \n",
       "\n",
       "                      expanded_urls  rating_numerator  rating_denominator  \\\n",
       "1592  https://vine.co/v/iMqBebnOvav                12                  10   \n",
       "\n",
       "      name doggo floofer pupper puppo  \n",
       "1592  None  None    None   None  None  "
      ]
     },
     "execution_count": 3,
     "metadata": {},
     "output_type": "execute_result"
    }
   ],
   "source": [
    "# Check if data was read correctly by showing one sample.\n",
    "twitter_archive.sample()"
   ]
  },
  {
   "cell_type": "markdown",
   "metadata": {},
   "source": [
    "<a id='gathering-2'></a>\n",
    "### 2.2. Tweet Image Predictions"
   ]
  },
  {
   "cell_type": "markdown",
   "metadata": {},
   "source": [
    "This dataset is in a TSV file on Udacity’s servers. We will download the file programmatically using the Requests library and the following URL: \n",
    "https://d17h27t6h515a5.cloudfront.net/topher/2017/August/599fd2ad_image-predictions/image-predictions.tsv\n"
   ]
  },
  {
   "cell_type": "code",
   "execution_count": 4,
   "metadata": {},
   "outputs": [],
   "source": [
    "# Download 'image_predictions.tsv' file using the Requests library.\n",
    "url = 'https://d17h27t6h515a5.cloudfront.net/topher/2017/August/599fd2ad_image-predictions/image-predictions.tsv'\n",
    "response = requests.get(url)\n",
    "\n",
    "# Write response into a file.\n",
    "with open('image-predictions.tsv', mode = 'wb') as file:\n",
    "          file.write(response.content)"
   ]
  },
  {
   "cell_type": "code",
   "execution_count": 5,
   "metadata": {},
   "outputs": [],
   "source": [
    "# Load 'Image predictions' dataset.\n",
    "img_prediction = pd.read_csv('image-predictions.tsv', sep = '\\t')"
   ]
  },
  {
   "cell_type": "code",
   "execution_count": 6,
   "metadata": {},
   "outputs": [
    {
     "data": {
      "text/html": [
       "<div>\n",
       "<style scoped>\n",
       "    .dataframe tbody tr th:only-of-type {\n",
       "        vertical-align: middle;\n",
       "    }\n",
       "\n",
       "    .dataframe tbody tr th {\n",
       "        vertical-align: top;\n",
       "    }\n",
       "\n",
       "    .dataframe thead th {\n",
       "        text-align: right;\n",
       "    }\n",
       "</style>\n",
       "<table border=\"1\" class=\"dataframe\">\n",
       "  <thead>\n",
       "    <tr style=\"text-align: right;\">\n",
       "      <th></th>\n",
       "      <th>tweet_id</th>\n",
       "      <th>jpg_url</th>\n",
       "      <th>img_num</th>\n",
       "      <th>p1</th>\n",
       "      <th>p1_conf</th>\n",
       "      <th>p1_dog</th>\n",
       "      <th>p2</th>\n",
       "      <th>p2_conf</th>\n",
       "      <th>p2_dog</th>\n",
       "      <th>p3</th>\n",
       "      <th>p3_conf</th>\n",
       "      <th>p3_dog</th>\n",
       "    </tr>\n",
       "  </thead>\n",
       "  <tbody>\n",
       "    <tr>\n",
       "      <th>730</th>\n",
       "      <td>686618349602762752</td>\n",
       "      <td>https://pbs.twimg.com/media/CYdbvwjWcAEtjYu.jpg</td>\n",
       "      <td>1</td>\n",
       "      <td>Rottweiler</td>\n",
       "      <td>0.441331</td>\n",
       "      <td>True</td>\n",
       "      <td>miniature_pinscher</td>\n",
       "      <td>0.23318</td>\n",
       "      <td>True</td>\n",
       "      <td>Gordon_setter</td>\n",
       "      <td>0.093582</td>\n",
       "      <td>True</td>\n",
       "    </tr>\n",
       "  </tbody>\n",
       "</table>\n",
       "</div>"
      ],
      "text/plain": [
       "               tweet_id                                          jpg_url  \\\n",
       "730  686618349602762752  https://pbs.twimg.com/media/CYdbvwjWcAEtjYu.jpg   \n",
       "\n",
       "     img_num          p1   p1_conf  p1_dog                  p2  p2_conf  \\\n",
       "730        1  Rottweiler  0.441331    True  miniature_pinscher  0.23318   \n",
       "\n",
       "     p2_dog             p3   p3_conf  p3_dog  \n",
       "730    True  Gordon_setter  0.093582    True  "
      ]
     },
     "execution_count": 6,
     "metadata": {},
     "output_type": "execute_result"
    }
   ],
   "source": [
    "# Check if data was read correctly by showing one sample.\n",
    "img_prediction.sample()"
   ]
  },
  {
   "cell_type": "markdown",
   "metadata": {},
   "source": [
    "<a id='gathering-3'></a>\n",
    "### 2.3. Additional Data from the Twitter API"
   ]
  },
  {
   "cell_type": "markdown",
   "metadata": {},
   "source": [
    "The project requires gathering additional data from the Twitter API using Python's [Tweepy](http://www.tweepy.org) library and then storing JSON data into a file. Getting access to the Twitter API requires to set up a developer account in Twitter, submitting an application, and waiting for approval.\n",
    "\n",
    "Udacity provided directions to access required additional data without a Twitter account. We have followed those directions.\n",
    "\n",
    "Udacity provided the following two files:\n",
    "1. `twitter_api.py` which contains the code found below that is used to gather the requied data for the project. After reading and understanding how the code works, we have copied and pasted it into our Jupyter notebook based on Udacity's instructions.\n",
    "2. `tweet_json.txt` which contains the resulting data from `twitter_api.py`.\n",
    "\n",
    "We will read the `tweet_json.txt` file line by line into a Pandas dataframe with the following columns: id, retweet count, and favorite count. Then, we will save the dataframe into a CSV file."
   ]
  },
  {
   "cell_type": "code",
   "execution_count": null,
   "metadata": {
    "scrolled": true
   },
   "outputs": [],
   "source": [
    "import tweepy\n",
    "from tweepy import OAuthHandler\n",
    "import json\n",
    "from timeit import default_timer as timer\n",
    "\n",
    "# Query Twitter API for each tweet in the Twitter archive and save JSON in a text file\n",
    "# These are hidden to comply with Twitter's API terms and conditions\n",
    "consumer_key = 'HIDDEN'\n",
    "consumer_secret = 'HIDDEN'\n",
    "access_token = 'HIDDEN'\n",
    "access_secret = 'HIDDEN'\n",
    "\n",
    "auth = OAuthHandler(consumer_key, consumer_secret)\n",
    "auth.set_access_token(access_token, access_secret)\n",
    "\n",
    "api = tweepy.API(auth, wait_on_rate_limit=True)\n",
    "\n",
    "# NOTE TO STUDENT WITH MOBILE VERIFICATION ISSUES:\n",
    "# df_1 is a DataFrame with the twitter_archive_enhanced.csv file. You may have to\n",
    "# change line 17 to match the name of your DataFrame with twitter_archive_enhanced.csv\n",
    "# NOTE TO REVIEWER: this student had mobile verification issues so the following\n",
    "# Twitter API code was sent to this student from a Udacity instructor\n",
    "\n",
    "# Tweet IDs for which to gather additional data via Twitter's API\n",
    "tweet_ids = twitter_archive.tweet_id.values\n",
    "len(tweet_ids)\n",
    "\n",
    "# Query Twitter's API for JSON data for each tweet ID in the Twitter archive\n",
    "count = 0\n",
    "fails_dict = {}\n",
    "start = timer()\n",
    "# Save each tweet's returned JSON as a new line in a .txt file\n",
    "with open('tweet_json.txt', 'w') as outfile:\n",
    "    # This loop will likely take 20-30 minutes to run because of Twitter's rate limit\n",
    "    for tweet_id in tweet_ids:\n",
    "        count += 1\n",
    "        print(str(count) + \": \" + str(tweet_id))\n",
    "        try:\n",
    "            tweet = api.get_status(tweet_id, tweet_mode='extended')\n",
    "            print(\"Success\")\n",
    "            json.dump(tweet._json, outfile)\n",
    "            outfile.write('\\n')\n",
    "        except tweepy.TweepError as e:\n",
    "            print(\"Fail\")\n",
    "            fails_dict[tweet_id] = e\n",
    "            pass\n",
    "end = timer()\n",
    "print(end - start)\n",
    "print(fails_dict)"
   ]
  },
  {
   "cell_type": "code",
   "execution_count": 7,
   "metadata": {},
   "outputs": [
    {
     "name": "stdout",
     "output_type": "stream",
     "text": [
      "{\"created_at\": \"Tue Aug 01 16:23:56 +0000 2017\", \"id\": 892420643555336193, \"id_str\": \"892420643555336193\", \"full_text\": \"This is Phineas. He's a mystical boy. Only ever appears in the hole of a donut. 13/10 https://t.co/MgUWQ76dJU\", \"truncated\": false, \"display_text_range\": [0, 85], \"entities\": {\"hashtags\": [], \"symbols\": [], \"user_mentions\": [], \"urls\": [], \"media\": [{\"id\": 892420639486877696, \"id_str\": \"892420639486877696\", \"indices\": [86, 109], \"media_url\": \"http://pbs.twimg.com/media/DGKD1-bXoAAIAUK.jpg\", \"media_url_https\": \"https://pbs.twimg.com/media/DGKD1-bXoAAIAUK.jpg\", \"url\": \"https://t.co/MgUWQ76dJU\", \"display_url\": \"pic.twitter.com/MgUWQ76dJU\", \"expanded_url\": \"https://twitter.com/dog_rates/status/892420643555336193/photo/1\", \"type\": \"photo\", \"sizes\": {\"large\": {\"w\": 540, \"h\": 528, \"resize\": \"fit\"}, \"thumb\": {\"w\": 150, \"h\": 150, \"resize\": \"crop\"}, \"small\": {\"w\": 540, \"h\": 528, \"resize\": \"fit\"}, \"medium\": {\"w\": 540, \"h\": 528, \"resize\": \"fit\"}}}]}, \"extended_entities\": {\"media\": [{\"id\": 892420639486877696, \"id_str\": \"892420639486877696\", \"indices\": [86, 109], \"media_url\": \"http://pbs.twimg.com/media/DGKD1-bXoAAIAUK.jpg\", \"media_url_https\": \"https://pbs.twimg.com/media/DGKD1-bXoAAIAUK.jpg\", \"url\": \"https://t.co/MgUWQ76dJU\", \"display_url\": \"pic.twitter.com/MgUWQ76dJU\", \"expanded_url\": \"https://twitter.com/dog_rates/status/892420643555336193/photo/1\", \"type\": \"photo\", \"sizes\": {\"large\": {\"w\": 540, \"h\": 528, \"resize\": \"fit\"}, \"thumb\": {\"w\": 150, \"h\": 150, \"resize\": \"crop\"}, \"small\": {\"w\": 540, \"h\": 528, \"resize\": \"fit\"}, \"medium\": {\"w\": 540, \"h\": 528, \"resize\": \"fit\"}}}]}, \"source\": \"<a href=\\\"http://twitter.com/download/iphone\\\" rel=\\\"nofollow\\\">Twitter for iPhone</a>\", \"in_reply_to_status_id\": null, \"in_reply_to_status_id_str\": null, \"in_reply_to_user_id\": null, \"in_reply_to_user_id_str\": null, \"in_reply_to_screen_name\": null, \"user\": {\"id\": 4196983835, \"id_str\": \"4196983835\", \"name\": \"WeRateDogs\\u2122 (author)\", \"screen_name\": \"dog_rates\", \"location\": \"DM YOUR DOGS, WE WILL RATE\", \"description\": \"#1 Source for Professional Dog Ratings | STORE: @ShopWeRateDogs | IG, FB & SC: WeRateDogs MOBILE APP: @GoodDogsGame | Business: dogratingtwitter@gmail.com\", \"url\": \"https://t.co/N7sNNHAEXS\", \"entities\": {\"url\": {\"urls\": [{\"url\": \"https://t.co/N7sNNHAEXS\", \"expanded_url\": \"http://weratedogs.com\", \"display_url\": \"weratedogs.com\", \"indices\": [0, 23]}]}, \"description\": {\"urls\": []}}, \"protected\": false, \"followers_count\": 3200889, \"friends_count\": 104, \"listed_count\": 2784, \"created_at\": \"Sun Nov 15 21:41:29 +0000 2015\", \"favourites_count\": 114031, \"utc_offset\": null, \"time_zone\": null, \"geo_enabled\": true, \"verified\": true, \"statuses_count\": 5288, \"lang\": \"en\", \"contributors_enabled\": false, \"is_translator\": false, \"is_translation_enabled\": false, \"profile_background_color\": \"000000\", \"profile_background_image_url\": \"http://abs.twimg.com/images/themes/theme1/bg.png\", \"profile_background_image_url_https\": \"https://abs.twimg.com/images/themes/theme1/bg.png\", \"profile_background_tile\": false, \"profile_image_url\": \"http://pbs.twimg.com/profile_images/861415328504569856/R2xOOfwe_normal.jpg\", \"profile_image_url_https\": \"https://pbs.twimg.com/profile_images/861415328504569856/R2xOOfwe_normal.jpg\", \"profile_banner_url\": \"https://pbs.twimg.com/profile_banners/4196983835/1501129017\", \"profile_link_color\": \"F5ABB5\", \"profile_sidebar_border_color\": \"000000\", \"profile_sidebar_fill_color\": \"000000\", \"profile_text_color\": \"000000\", \"profile_use_background_image\": false, \"has_extended_profile\": true, \"default_profile\": false, \"default_profile_image\": false, \"following\": true, \"follow_request_sent\": false, \"notifications\": false, \"translator_type\": \"none\"}, \"geo\": null, \"coordinates\": null, \"place\": null, \"contributors\": null, \"is_quote_status\": false, \"retweet_count\": 8853, \"favorite_count\": 39467, \"favorited\": false, \"retweeted\": false, \"possibly_sensitive\": false, \"possibly_sensitive_appealable\": false, \"lang\": \"en\"}\n",
      "\n"
     ]
    }
   ],
   "source": [
    "# Read 'tweet-json.txt' file and print the fist line.\n",
    "with open('tweet-json.txt') as json_file:\n",
    "    for line in json_file:\n",
    "        print(line)\n",
    "        break"
   ]
  },
  {
   "cell_type": "code",
   "execution_count": 8,
   "metadata": {},
   "outputs": [],
   "source": [
    "#Create an empty list.\n",
    "df_list = []\n",
    "\n",
    "# Read 'tweet-json.txt' file line by line.\n",
    "# Add each line in the file to the list.\n",
    "with open('tweet-json.txt') as json_file:\n",
    "    for line in json_file:\n",
    "        data = json.loads(line)\n",
    "        df_list.append(data)\n",
    "\n",
    "# Create dataframe containing 'id, retweet_count, and favorite_count' columns.\n",
    "tweet_counts = pd.DataFrame(df_list, columns = ['id', 'retweet_count', 'favorite_count'])\n",
    "\n",
    "# Save dataframe into a CSV file.\n",
    "tweet_counts.to_csv('tweets_data.csv', index = False)"
   ]
  },
  {
   "cell_type": "code",
   "execution_count": 9,
   "metadata": {},
   "outputs": [
    {
     "data": {
      "text/html": [
       "<div>\n",
       "<style scoped>\n",
       "    .dataframe tbody tr th:only-of-type {\n",
       "        vertical-align: middle;\n",
       "    }\n",
       "\n",
       "    .dataframe tbody tr th {\n",
       "        vertical-align: top;\n",
       "    }\n",
       "\n",
       "    .dataframe thead th {\n",
       "        text-align: right;\n",
       "    }\n",
       "</style>\n",
       "<table border=\"1\" class=\"dataframe\">\n",
       "  <thead>\n",
       "    <tr style=\"text-align: right;\">\n",
       "      <th></th>\n",
       "      <th>id</th>\n",
       "      <th>retweet_count</th>\n",
       "      <th>favorite_count</th>\n",
       "    </tr>\n",
       "  </thead>\n",
       "  <tbody>\n",
       "    <tr>\n",
       "      <th>1915</th>\n",
       "      <td>674291837063053312</td>\n",
       "      <td>6533</td>\n",
       "      <td>15817</td>\n",
       "    </tr>\n",
       "  </tbody>\n",
       "</table>\n",
       "</div>"
      ],
      "text/plain": [
       "                      id  retweet_count  favorite_count\n",
       "1915  674291837063053312           6533           15817"
      ]
     },
     "execution_count": 9,
     "metadata": {},
     "output_type": "execute_result"
    }
   ],
   "source": [
    "# Load 'tweets' dataset.\n",
    "tweet_counts = pd.read_csv('tweets_data.csv')\n",
    "\n",
    "# Check if data was read correctly by showing one sample.\n",
    "tweet_counts.sample()"
   ]
  },
  {
   "cell_type": "markdown",
   "metadata": {
    "extensions": {
     "jupyter_dashboards": {
      "version": 1,
      "views": {
       "grid_default": {
        "col": 4,
        "height": 4,
        "hidden": false,
        "row": 28,
        "width": 4
       },
       "report_default": {
        "hidden": false
       }
      }
     }
    }
   },
   "source": [
    "<a id='assessing'></a>\n",
    "## 3. Assessing Data"
   ]
  },
  {
   "cell_type": "markdown",
   "metadata": {},
   "source": [
    "In this section, we will conduct assessment on the three datasets to identify quality and tidiness issues using both visual and programmatic assessments.\n",
    "\n",
    "Assessing the entire datasets completely is not required in this project. "
   ]
  },
  {
   "cell_type": "markdown",
   "metadata": {},
   "source": [
    "<a id='assessing-1'></a>\n",
    "### 3.1. Assessing Twitter Archive Data"
   ]
  },
  {
   "cell_type": "code",
   "execution_count": 10,
   "metadata": {
    "scrolled": true
   },
   "outputs": [
    {
     "data": {
      "text/html": [
       "<div>\n",
       "<style scoped>\n",
       "    .dataframe tbody tr th:only-of-type {\n",
       "        vertical-align: middle;\n",
       "    }\n",
       "\n",
       "    .dataframe tbody tr th {\n",
       "        vertical-align: top;\n",
       "    }\n",
       "\n",
       "    .dataframe thead th {\n",
       "        text-align: right;\n",
       "    }\n",
       "</style>\n",
       "<table border=\"1\" class=\"dataframe\">\n",
       "  <thead>\n",
       "    <tr style=\"text-align: right;\">\n",
       "      <th></th>\n",
       "      <th>tweet_id</th>\n",
       "      <th>in_reply_to_status_id</th>\n",
       "      <th>in_reply_to_user_id</th>\n",
       "      <th>timestamp</th>\n",
       "      <th>source</th>\n",
       "      <th>text</th>\n",
       "      <th>retweeted_status_id</th>\n",
       "      <th>retweeted_status_user_id</th>\n",
       "      <th>retweeted_status_timestamp</th>\n",
       "      <th>expanded_urls</th>\n",
       "      <th>rating_numerator</th>\n",
       "      <th>rating_denominator</th>\n",
       "      <th>name</th>\n",
       "      <th>doggo</th>\n",
       "      <th>floofer</th>\n",
       "      <th>pupper</th>\n",
       "      <th>puppo</th>\n",
       "    </tr>\n",
       "  </thead>\n",
       "  <tbody>\n",
       "    <tr>\n",
       "      <th>0</th>\n",
       "      <td>892420643555336193</td>\n",
       "      <td>NaN</td>\n",
       "      <td>NaN</td>\n",
       "      <td>2017-08-01 16:23:56 +0000</td>\n",
       "      <td>&lt;a href=\"http://twitter.com/download/iphone\" r...</td>\n",
       "      <td>This is Phineas. He's a mystical boy. Only eve...</td>\n",
       "      <td>NaN</td>\n",
       "      <td>NaN</td>\n",
       "      <td>NaN</td>\n",
       "      <td>https://twitter.com/dog_rates/status/892420643...</td>\n",
       "      <td>13</td>\n",
       "      <td>10</td>\n",
       "      <td>Phineas</td>\n",
       "      <td>None</td>\n",
       "      <td>None</td>\n",
       "      <td>None</td>\n",
       "      <td>None</td>\n",
       "    </tr>\n",
       "    <tr>\n",
       "      <th>1</th>\n",
       "      <td>892177421306343426</td>\n",
       "      <td>NaN</td>\n",
       "      <td>NaN</td>\n",
       "      <td>2017-08-01 00:17:27 +0000</td>\n",
       "      <td>&lt;a href=\"http://twitter.com/download/iphone\" r...</td>\n",
       "      <td>This is Tilly. She's just checking pup on you....</td>\n",
       "      <td>NaN</td>\n",
       "      <td>NaN</td>\n",
       "      <td>NaN</td>\n",
       "      <td>https://twitter.com/dog_rates/status/892177421...</td>\n",
       "      <td>13</td>\n",
       "      <td>10</td>\n",
       "      <td>Tilly</td>\n",
       "      <td>None</td>\n",
       "      <td>None</td>\n",
       "      <td>None</td>\n",
       "      <td>None</td>\n",
       "    </tr>\n",
       "    <tr>\n",
       "      <th>2</th>\n",
       "      <td>891815181378084864</td>\n",
       "      <td>NaN</td>\n",
       "      <td>NaN</td>\n",
       "      <td>2017-07-31 00:18:03 +0000</td>\n",
       "      <td>&lt;a href=\"http://twitter.com/download/iphone\" r...</td>\n",
       "      <td>This is Archie. He is a rare Norwegian Pouncin...</td>\n",
       "      <td>NaN</td>\n",
       "      <td>NaN</td>\n",
       "      <td>NaN</td>\n",
       "      <td>https://twitter.com/dog_rates/status/891815181...</td>\n",
       "      <td>12</td>\n",
       "      <td>10</td>\n",
       "      <td>Archie</td>\n",
       "      <td>None</td>\n",
       "      <td>None</td>\n",
       "      <td>None</td>\n",
       "      <td>None</td>\n",
       "    </tr>\n",
       "    <tr>\n",
       "      <th>3</th>\n",
       "      <td>891689557279858688</td>\n",
       "      <td>NaN</td>\n",
       "      <td>NaN</td>\n",
       "      <td>2017-07-30 15:58:51 +0000</td>\n",
       "      <td>&lt;a href=\"http://twitter.com/download/iphone\" r...</td>\n",
       "      <td>This is Darla. She commenced a snooze mid meal...</td>\n",
       "      <td>NaN</td>\n",
       "      <td>NaN</td>\n",
       "      <td>NaN</td>\n",
       "      <td>https://twitter.com/dog_rates/status/891689557...</td>\n",
       "      <td>13</td>\n",
       "      <td>10</td>\n",
       "      <td>Darla</td>\n",
       "      <td>None</td>\n",
       "      <td>None</td>\n",
       "      <td>None</td>\n",
       "      <td>None</td>\n",
       "    </tr>\n",
       "    <tr>\n",
       "      <th>4</th>\n",
       "      <td>891327558926688256</td>\n",
       "      <td>NaN</td>\n",
       "      <td>NaN</td>\n",
       "      <td>2017-07-29 16:00:24 +0000</td>\n",
       "      <td>&lt;a href=\"http://twitter.com/download/iphone\" r...</td>\n",
       "      <td>This is Franklin. He would like you to stop ca...</td>\n",
       "      <td>NaN</td>\n",
       "      <td>NaN</td>\n",
       "      <td>NaN</td>\n",
       "      <td>https://twitter.com/dog_rates/status/891327558...</td>\n",
       "      <td>12</td>\n",
       "      <td>10</td>\n",
       "      <td>Franklin</td>\n",
       "      <td>None</td>\n",
       "      <td>None</td>\n",
       "      <td>None</td>\n",
       "      <td>None</td>\n",
       "    </tr>\n",
       "    <tr>\n",
       "      <th>5</th>\n",
       "      <td>891087950875897856</td>\n",
       "      <td>NaN</td>\n",
       "      <td>NaN</td>\n",
       "      <td>2017-07-29 00:08:17 +0000</td>\n",
       "      <td>&lt;a href=\"http://twitter.com/download/iphone\" r...</td>\n",
       "      <td>Here we have a majestic great white breaching ...</td>\n",
       "      <td>NaN</td>\n",
       "      <td>NaN</td>\n",
       "      <td>NaN</td>\n",
       "      <td>https://twitter.com/dog_rates/status/891087950...</td>\n",
       "      <td>13</td>\n",
       "      <td>10</td>\n",
       "      <td>None</td>\n",
       "      <td>None</td>\n",
       "      <td>None</td>\n",
       "      <td>None</td>\n",
       "      <td>None</td>\n",
       "    </tr>\n",
       "    <tr>\n",
       "      <th>6</th>\n",
       "      <td>890971913173991426</td>\n",
       "      <td>NaN</td>\n",
       "      <td>NaN</td>\n",
       "      <td>2017-07-28 16:27:12 +0000</td>\n",
       "      <td>&lt;a href=\"http://twitter.com/download/iphone\" r...</td>\n",
       "      <td>Meet Jax. He enjoys ice cream so much he gets ...</td>\n",
       "      <td>NaN</td>\n",
       "      <td>NaN</td>\n",
       "      <td>NaN</td>\n",
       "      <td>https://gofundme.com/ydvmve-surgery-for-jax,ht...</td>\n",
       "      <td>13</td>\n",
       "      <td>10</td>\n",
       "      <td>Jax</td>\n",
       "      <td>None</td>\n",
       "      <td>None</td>\n",
       "      <td>None</td>\n",
       "      <td>None</td>\n",
       "    </tr>\n",
       "    <tr>\n",
       "      <th>7</th>\n",
       "      <td>890729181411237888</td>\n",
       "      <td>NaN</td>\n",
       "      <td>NaN</td>\n",
       "      <td>2017-07-28 00:22:40 +0000</td>\n",
       "      <td>&lt;a href=\"http://twitter.com/download/iphone\" r...</td>\n",
       "      <td>When you watch your owner call another dog a g...</td>\n",
       "      <td>NaN</td>\n",
       "      <td>NaN</td>\n",
       "      <td>NaN</td>\n",
       "      <td>https://twitter.com/dog_rates/status/890729181...</td>\n",
       "      <td>13</td>\n",
       "      <td>10</td>\n",
       "      <td>None</td>\n",
       "      <td>None</td>\n",
       "      <td>None</td>\n",
       "      <td>None</td>\n",
       "      <td>None</td>\n",
       "    </tr>\n",
       "    <tr>\n",
       "      <th>8</th>\n",
       "      <td>890609185150312448</td>\n",
       "      <td>NaN</td>\n",
       "      <td>NaN</td>\n",
       "      <td>2017-07-27 16:25:51 +0000</td>\n",
       "      <td>&lt;a href=\"http://twitter.com/download/iphone\" r...</td>\n",
       "      <td>This is Zoey. She doesn't want to be one of th...</td>\n",
       "      <td>NaN</td>\n",
       "      <td>NaN</td>\n",
       "      <td>NaN</td>\n",
       "      <td>https://twitter.com/dog_rates/status/890609185...</td>\n",
       "      <td>13</td>\n",
       "      <td>10</td>\n",
       "      <td>Zoey</td>\n",
       "      <td>None</td>\n",
       "      <td>None</td>\n",
       "      <td>None</td>\n",
       "      <td>None</td>\n",
       "    </tr>\n",
       "    <tr>\n",
       "      <th>9</th>\n",
       "      <td>890240255349198849</td>\n",
       "      <td>NaN</td>\n",
       "      <td>NaN</td>\n",
       "      <td>2017-07-26 15:59:51 +0000</td>\n",
       "      <td>&lt;a href=\"http://twitter.com/download/iphone\" r...</td>\n",
       "      <td>This is Cassie. She is a college pup. Studying...</td>\n",
       "      <td>NaN</td>\n",
       "      <td>NaN</td>\n",
       "      <td>NaN</td>\n",
       "      <td>https://twitter.com/dog_rates/status/890240255...</td>\n",
       "      <td>14</td>\n",
       "      <td>10</td>\n",
       "      <td>Cassie</td>\n",
       "      <td>doggo</td>\n",
       "      <td>None</td>\n",
       "      <td>None</td>\n",
       "      <td>None</td>\n",
       "    </tr>\n",
       "  </tbody>\n",
       "</table>\n",
       "</div>"
      ],
      "text/plain": [
       "             tweet_id  in_reply_to_status_id  in_reply_to_user_id  \\\n",
       "0  892420643555336193                    NaN                  NaN   \n",
       "1  892177421306343426                    NaN                  NaN   \n",
       "2  891815181378084864                    NaN                  NaN   \n",
       "3  891689557279858688                    NaN                  NaN   \n",
       "4  891327558926688256                    NaN                  NaN   \n",
       "5  891087950875897856                    NaN                  NaN   \n",
       "6  890971913173991426                    NaN                  NaN   \n",
       "7  890729181411237888                    NaN                  NaN   \n",
       "8  890609185150312448                    NaN                  NaN   \n",
       "9  890240255349198849                    NaN                  NaN   \n",
       "\n",
       "                   timestamp  \\\n",
       "0  2017-08-01 16:23:56 +0000   \n",
       "1  2017-08-01 00:17:27 +0000   \n",
       "2  2017-07-31 00:18:03 +0000   \n",
       "3  2017-07-30 15:58:51 +0000   \n",
       "4  2017-07-29 16:00:24 +0000   \n",
       "5  2017-07-29 00:08:17 +0000   \n",
       "6  2017-07-28 16:27:12 +0000   \n",
       "7  2017-07-28 00:22:40 +0000   \n",
       "8  2017-07-27 16:25:51 +0000   \n",
       "9  2017-07-26 15:59:51 +0000   \n",
       "\n",
       "                                              source  \\\n",
       "0  <a href=\"http://twitter.com/download/iphone\" r...   \n",
       "1  <a href=\"http://twitter.com/download/iphone\" r...   \n",
       "2  <a href=\"http://twitter.com/download/iphone\" r...   \n",
       "3  <a href=\"http://twitter.com/download/iphone\" r...   \n",
       "4  <a href=\"http://twitter.com/download/iphone\" r...   \n",
       "5  <a href=\"http://twitter.com/download/iphone\" r...   \n",
       "6  <a href=\"http://twitter.com/download/iphone\" r...   \n",
       "7  <a href=\"http://twitter.com/download/iphone\" r...   \n",
       "8  <a href=\"http://twitter.com/download/iphone\" r...   \n",
       "9  <a href=\"http://twitter.com/download/iphone\" r...   \n",
       "\n",
       "                                                text  retweeted_status_id  \\\n",
       "0  This is Phineas. He's a mystical boy. Only eve...                  NaN   \n",
       "1  This is Tilly. She's just checking pup on you....                  NaN   \n",
       "2  This is Archie. He is a rare Norwegian Pouncin...                  NaN   \n",
       "3  This is Darla. She commenced a snooze mid meal...                  NaN   \n",
       "4  This is Franklin. He would like you to stop ca...                  NaN   \n",
       "5  Here we have a majestic great white breaching ...                  NaN   \n",
       "6  Meet Jax. He enjoys ice cream so much he gets ...                  NaN   \n",
       "7  When you watch your owner call another dog a g...                  NaN   \n",
       "8  This is Zoey. She doesn't want to be one of th...                  NaN   \n",
       "9  This is Cassie. She is a college pup. Studying...                  NaN   \n",
       "\n",
       "   retweeted_status_user_id retweeted_status_timestamp  \\\n",
       "0                       NaN                        NaN   \n",
       "1                       NaN                        NaN   \n",
       "2                       NaN                        NaN   \n",
       "3                       NaN                        NaN   \n",
       "4                       NaN                        NaN   \n",
       "5                       NaN                        NaN   \n",
       "6                       NaN                        NaN   \n",
       "7                       NaN                        NaN   \n",
       "8                       NaN                        NaN   \n",
       "9                       NaN                        NaN   \n",
       "\n",
       "                                       expanded_urls  rating_numerator  \\\n",
       "0  https://twitter.com/dog_rates/status/892420643...                13   \n",
       "1  https://twitter.com/dog_rates/status/892177421...                13   \n",
       "2  https://twitter.com/dog_rates/status/891815181...                12   \n",
       "3  https://twitter.com/dog_rates/status/891689557...                13   \n",
       "4  https://twitter.com/dog_rates/status/891327558...                12   \n",
       "5  https://twitter.com/dog_rates/status/891087950...                13   \n",
       "6  https://gofundme.com/ydvmve-surgery-for-jax,ht...                13   \n",
       "7  https://twitter.com/dog_rates/status/890729181...                13   \n",
       "8  https://twitter.com/dog_rates/status/890609185...                13   \n",
       "9  https://twitter.com/dog_rates/status/890240255...                14   \n",
       "\n",
       "   rating_denominator      name  doggo floofer pupper puppo  \n",
       "0                  10   Phineas   None    None   None  None  \n",
       "1                  10     Tilly   None    None   None  None  \n",
       "2                  10    Archie   None    None   None  None  \n",
       "3                  10     Darla   None    None   None  None  \n",
       "4                  10  Franklin   None    None   None  None  \n",
       "5                  10      None   None    None   None  None  \n",
       "6                  10       Jax   None    None   None  None  \n",
       "7                  10      None   None    None   None  None  \n",
       "8                  10      Zoey   None    None   None  None  \n",
       "9                  10    Cassie  doggo    None   None  None  "
      ]
     },
     "execution_count": 10,
     "metadata": {},
     "output_type": "execute_result"
    }
   ],
   "source": [
    "# view the first 10 rows of the dataset.\n",
    "twitter_archive.head(10)"
   ]
  },
  {
   "cell_type": "code",
   "execution_count": 11,
   "metadata": {},
   "outputs": [
    {
     "data": {
      "text/html": [
       "<div>\n",
       "<style scoped>\n",
       "    .dataframe tbody tr th:only-of-type {\n",
       "        vertical-align: middle;\n",
       "    }\n",
       "\n",
       "    .dataframe tbody tr th {\n",
       "        vertical-align: top;\n",
       "    }\n",
       "\n",
       "    .dataframe thead th {\n",
       "        text-align: right;\n",
       "    }\n",
       "</style>\n",
       "<table border=\"1\" class=\"dataframe\">\n",
       "  <thead>\n",
       "    <tr style=\"text-align: right;\">\n",
       "      <th></th>\n",
       "      <th>tweet_id</th>\n",
       "      <th>in_reply_to_status_id</th>\n",
       "      <th>in_reply_to_user_id</th>\n",
       "      <th>timestamp</th>\n",
       "      <th>source</th>\n",
       "      <th>text</th>\n",
       "      <th>retweeted_status_id</th>\n",
       "      <th>retweeted_status_user_id</th>\n",
       "      <th>retweeted_status_timestamp</th>\n",
       "      <th>expanded_urls</th>\n",
       "      <th>rating_numerator</th>\n",
       "      <th>rating_denominator</th>\n",
       "      <th>name</th>\n",
       "      <th>doggo</th>\n",
       "      <th>floofer</th>\n",
       "      <th>pupper</th>\n",
       "      <th>puppo</th>\n",
       "    </tr>\n",
       "  </thead>\n",
       "  <tbody>\n",
       "    <tr>\n",
       "      <th>2346</th>\n",
       "      <td>666058600524156928</td>\n",
       "      <td>NaN</td>\n",
       "      <td>NaN</td>\n",
       "      <td>2015-11-16 01:01:59 +0000</td>\n",
       "      <td>&lt;a href=\"http://twitter.com/download/iphone\" r...</td>\n",
       "      <td>Here is the Rand Paul of retrievers folks! He'...</td>\n",
       "      <td>NaN</td>\n",
       "      <td>NaN</td>\n",
       "      <td>NaN</td>\n",
       "      <td>https://twitter.com/dog_rates/status/666058600...</td>\n",
       "      <td>8</td>\n",
       "      <td>10</td>\n",
       "      <td>the</td>\n",
       "      <td>None</td>\n",
       "      <td>None</td>\n",
       "      <td>None</td>\n",
       "      <td>None</td>\n",
       "    </tr>\n",
       "    <tr>\n",
       "      <th>2347</th>\n",
       "      <td>666057090499244032</td>\n",
       "      <td>NaN</td>\n",
       "      <td>NaN</td>\n",
       "      <td>2015-11-16 00:55:59 +0000</td>\n",
       "      <td>&lt;a href=\"http://twitter.com/download/iphone\" r...</td>\n",
       "      <td>My oh my. This is a rare blond Canadian terrie...</td>\n",
       "      <td>NaN</td>\n",
       "      <td>NaN</td>\n",
       "      <td>NaN</td>\n",
       "      <td>https://twitter.com/dog_rates/status/666057090...</td>\n",
       "      <td>9</td>\n",
       "      <td>10</td>\n",
       "      <td>a</td>\n",
       "      <td>None</td>\n",
       "      <td>None</td>\n",
       "      <td>None</td>\n",
       "      <td>None</td>\n",
       "    </tr>\n",
       "    <tr>\n",
       "      <th>2348</th>\n",
       "      <td>666055525042405380</td>\n",
       "      <td>NaN</td>\n",
       "      <td>NaN</td>\n",
       "      <td>2015-11-16 00:49:46 +0000</td>\n",
       "      <td>&lt;a href=\"http://twitter.com/download/iphone\" r...</td>\n",
       "      <td>Here is a Siberian heavily armored polar bear ...</td>\n",
       "      <td>NaN</td>\n",
       "      <td>NaN</td>\n",
       "      <td>NaN</td>\n",
       "      <td>https://twitter.com/dog_rates/status/666055525...</td>\n",
       "      <td>10</td>\n",
       "      <td>10</td>\n",
       "      <td>a</td>\n",
       "      <td>None</td>\n",
       "      <td>None</td>\n",
       "      <td>None</td>\n",
       "      <td>None</td>\n",
       "    </tr>\n",
       "    <tr>\n",
       "      <th>2349</th>\n",
       "      <td>666051853826850816</td>\n",
       "      <td>NaN</td>\n",
       "      <td>NaN</td>\n",
       "      <td>2015-11-16 00:35:11 +0000</td>\n",
       "      <td>&lt;a href=\"http://twitter.com/download/iphone\" r...</td>\n",
       "      <td>This is an odd dog. Hard on the outside but lo...</td>\n",
       "      <td>NaN</td>\n",
       "      <td>NaN</td>\n",
       "      <td>NaN</td>\n",
       "      <td>https://twitter.com/dog_rates/status/666051853...</td>\n",
       "      <td>2</td>\n",
       "      <td>10</td>\n",
       "      <td>an</td>\n",
       "      <td>None</td>\n",
       "      <td>None</td>\n",
       "      <td>None</td>\n",
       "      <td>None</td>\n",
       "    </tr>\n",
       "    <tr>\n",
       "      <th>2350</th>\n",
       "      <td>666050758794694657</td>\n",
       "      <td>NaN</td>\n",
       "      <td>NaN</td>\n",
       "      <td>2015-11-16 00:30:50 +0000</td>\n",
       "      <td>&lt;a href=\"http://twitter.com/download/iphone\" r...</td>\n",
       "      <td>This is a truly beautiful English Wilson Staff...</td>\n",
       "      <td>NaN</td>\n",
       "      <td>NaN</td>\n",
       "      <td>NaN</td>\n",
       "      <td>https://twitter.com/dog_rates/status/666050758...</td>\n",
       "      <td>10</td>\n",
       "      <td>10</td>\n",
       "      <td>a</td>\n",
       "      <td>None</td>\n",
       "      <td>None</td>\n",
       "      <td>None</td>\n",
       "      <td>None</td>\n",
       "    </tr>\n",
       "    <tr>\n",
       "      <th>2351</th>\n",
       "      <td>666049248165822465</td>\n",
       "      <td>NaN</td>\n",
       "      <td>NaN</td>\n",
       "      <td>2015-11-16 00:24:50 +0000</td>\n",
       "      <td>&lt;a href=\"http://twitter.com/download/iphone\" r...</td>\n",
       "      <td>Here we have a 1949 1st generation vulpix. Enj...</td>\n",
       "      <td>NaN</td>\n",
       "      <td>NaN</td>\n",
       "      <td>NaN</td>\n",
       "      <td>https://twitter.com/dog_rates/status/666049248...</td>\n",
       "      <td>5</td>\n",
       "      <td>10</td>\n",
       "      <td>None</td>\n",
       "      <td>None</td>\n",
       "      <td>None</td>\n",
       "      <td>None</td>\n",
       "      <td>None</td>\n",
       "    </tr>\n",
       "    <tr>\n",
       "      <th>2352</th>\n",
       "      <td>666044226329800704</td>\n",
       "      <td>NaN</td>\n",
       "      <td>NaN</td>\n",
       "      <td>2015-11-16 00:04:52 +0000</td>\n",
       "      <td>&lt;a href=\"http://twitter.com/download/iphone\" r...</td>\n",
       "      <td>This is a purebred Piers Morgan. Loves to Netf...</td>\n",
       "      <td>NaN</td>\n",
       "      <td>NaN</td>\n",
       "      <td>NaN</td>\n",
       "      <td>https://twitter.com/dog_rates/status/666044226...</td>\n",
       "      <td>6</td>\n",
       "      <td>10</td>\n",
       "      <td>a</td>\n",
       "      <td>None</td>\n",
       "      <td>None</td>\n",
       "      <td>None</td>\n",
       "      <td>None</td>\n",
       "    </tr>\n",
       "    <tr>\n",
       "      <th>2353</th>\n",
       "      <td>666033412701032449</td>\n",
       "      <td>NaN</td>\n",
       "      <td>NaN</td>\n",
       "      <td>2015-11-15 23:21:54 +0000</td>\n",
       "      <td>&lt;a href=\"http://twitter.com/download/iphone\" r...</td>\n",
       "      <td>Here is a very happy pup. Big fan of well-main...</td>\n",
       "      <td>NaN</td>\n",
       "      <td>NaN</td>\n",
       "      <td>NaN</td>\n",
       "      <td>https://twitter.com/dog_rates/status/666033412...</td>\n",
       "      <td>9</td>\n",
       "      <td>10</td>\n",
       "      <td>a</td>\n",
       "      <td>None</td>\n",
       "      <td>None</td>\n",
       "      <td>None</td>\n",
       "      <td>None</td>\n",
       "    </tr>\n",
       "    <tr>\n",
       "      <th>2354</th>\n",
       "      <td>666029285002620928</td>\n",
       "      <td>NaN</td>\n",
       "      <td>NaN</td>\n",
       "      <td>2015-11-15 23:05:30 +0000</td>\n",
       "      <td>&lt;a href=\"http://twitter.com/download/iphone\" r...</td>\n",
       "      <td>This is a western brown Mitsubishi terrier. Up...</td>\n",
       "      <td>NaN</td>\n",
       "      <td>NaN</td>\n",
       "      <td>NaN</td>\n",
       "      <td>https://twitter.com/dog_rates/status/666029285...</td>\n",
       "      <td>7</td>\n",
       "      <td>10</td>\n",
       "      <td>a</td>\n",
       "      <td>None</td>\n",
       "      <td>None</td>\n",
       "      <td>None</td>\n",
       "      <td>None</td>\n",
       "    </tr>\n",
       "    <tr>\n",
       "      <th>2355</th>\n",
       "      <td>666020888022790149</td>\n",
       "      <td>NaN</td>\n",
       "      <td>NaN</td>\n",
       "      <td>2015-11-15 22:32:08 +0000</td>\n",
       "      <td>&lt;a href=\"http://twitter.com/download/iphone\" r...</td>\n",
       "      <td>Here we have a Japanese Irish Setter. Lost eye...</td>\n",
       "      <td>NaN</td>\n",
       "      <td>NaN</td>\n",
       "      <td>NaN</td>\n",
       "      <td>https://twitter.com/dog_rates/status/666020888...</td>\n",
       "      <td>8</td>\n",
       "      <td>10</td>\n",
       "      <td>None</td>\n",
       "      <td>None</td>\n",
       "      <td>None</td>\n",
       "      <td>None</td>\n",
       "      <td>None</td>\n",
       "    </tr>\n",
       "  </tbody>\n",
       "</table>\n",
       "</div>"
      ],
      "text/plain": [
       "                tweet_id  in_reply_to_status_id  in_reply_to_user_id  \\\n",
       "2346  666058600524156928                    NaN                  NaN   \n",
       "2347  666057090499244032                    NaN                  NaN   \n",
       "2348  666055525042405380                    NaN                  NaN   \n",
       "2349  666051853826850816                    NaN                  NaN   \n",
       "2350  666050758794694657                    NaN                  NaN   \n",
       "2351  666049248165822465                    NaN                  NaN   \n",
       "2352  666044226329800704                    NaN                  NaN   \n",
       "2353  666033412701032449                    NaN                  NaN   \n",
       "2354  666029285002620928                    NaN                  NaN   \n",
       "2355  666020888022790149                    NaN                  NaN   \n",
       "\n",
       "                      timestamp  \\\n",
       "2346  2015-11-16 01:01:59 +0000   \n",
       "2347  2015-11-16 00:55:59 +0000   \n",
       "2348  2015-11-16 00:49:46 +0000   \n",
       "2349  2015-11-16 00:35:11 +0000   \n",
       "2350  2015-11-16 00:30:50 +0000   \n",
       "2351  2015-11-16 00:24:50 +0000   \n",
       "2352  2015-11-16 00:04:52 +0000   \n",
       "2353  2015-11-15 23:21:54 +0000   \n",
       "2354  2015-11-15 23:05:30 +0000   \n",
       "2355  2015-11-15 22:32:08 +0000   \n",
       "\n",
       "                                                 source  \\\n",
       "2346  <a href=\"http://twitter.com/download/iphone\" r...   \n",
       "2347  <a href=\"http://twitter.com/download/iphone\" r...   \n",
       "2348  <a href=\"http://twitter.com/download/iphone\" r...   \n",
       "2349  <a href=\"http://twitter.com/download/iphone\" r...   \n",
       "2350  <a href=\"http://twitter.com/download/iphone\" r...   \n",
       "2351  <a href=\"http://twitter.com/download/iphone\" r...   \n",
       "2352  <a href=\"http://twitter.com/download/iphone\" r...   \n",
       "2353  <a href=\"http://twitter.com/download/iphone\" r...   \n",
       "2354  <a href=\"http://twitter.com/download/iphone\" r...   \n",
       "2355  <a href=\"http://twitter.com/download/iphone\" r...   \n",
       "\n",
       "                                                   text  retweeted_status_id  \\\n",
       "2346  Here is the Rand Paul of retrievers folks! He'...                  NaN   \n",
       "2347  My oh my. This is a rare blond Canadian terrie...                  NaN   \n",
       "2348  Here is a Siberian heavily armored polar bear ...                  NaN   \n",
       "2349  This is an odd dog. Hard on the outside but lo...                  NaN   \n",
       "2350  This is a truly beautiful English Wilson Staff...                  NaN   \n",
       "2351  Here we have a 1949 1st generation vulpix. Enj...                  NaN   \n",
       "2352  This is a purebred Piers Morgan. Loves to Netf...                  NaN   \n",
       "2353  Here is a very happy pup. Big fan of well-main...                  NaN   \n",
       "2354  This is a western brown Mitsubishi terrier. Up...                  NaN   \n",
       "2355  Here we have a Japanese Irish Setter. Lost eye...                  NaN   \n",
       "\n",
       "      retweeted_status_user_id retweeted_status_timestamp  \\\n",
       "2346                       NaN                        NaN   \n",
       "2347                       NaN                        NaN   \n",
       "2348                       NaN                        NaN   \n",
       "2349                       NaN                        NaN   \n",
       "2350                       NaN                        NaN   \n",
       "2351                       NaN                        NaN   \n",
       "2352                       NaN                        NaN   \n",
       "2353                       NaN                        NaN   \n",
       "2354                       NaN                        NaN   \n",
       "2355                       NaN                        NaN   \n",
       "\n",
       "                                          expanded_urls  rating_numerator  \\\n",
       "2346  https://twitter.com/dog_rates/status/666058600...                 8   \n",
       "2347  https://twitter.com/dog_rates/status/666057090...                 9   \n",
       "2348  https://twitter.com/dog_rates/status/666055525...                10   \n",
       "2349  https://twitter.com/dog_rates/status/666051853...                 2   \n",
       "2350  https://twitter.com/dog_rates/status/666050758...                10   \n",
       "2351  https://twitter.com/dog_rates/status/666049248...                 5   \n",
       "2352  https://twitter.com/dog_rates/status/666044226...                 6   \n",
       "2353  https://twitter.com/dog_rates/status/666033412...                 9   \n",
       "2354  https://twitter.com/dog_rates/status/666029285...                 7   \n",
       "2355  https://twitter.com/dog_rates/status/666020888...                 8   \n",
       "\n",
       "      rating_denominator  name doggo floofer pupper puppo  \n",
       "2346                  10   the  None    None   None  None  \n",
       "2347                  10     a  None    None   None  None  \n",
       "2348                  10     a  None    None   None  None  \n",
       "2349                  10    an  None    None   None  None  \n",
       "2350                  10     a  None    None   None  None  \n",
       "2351                  10  None  None    None   None  None  \n",
       "2352                  10     a  None    None   None  None  \n",
       "2353                  10     a  None    None   None  None  \n",
       "2354                  10     a  None    None   None  None  \n",
       "2355                  10  None  None    None   None  None  "
      ]
     },
     "execution_count": 11,
     "metadata": {},
     "output_type": "execute_result"
    }
   ],
   "source": [
    "# View the last 10 rows of the dataset.\n",
    "twitter_archive.tail(10)"
   ]
  },
  {
   "cell_type": "code",
   "execution_count": 12,
   "metadata": {},
   "outputs": [
    {
     "data": {
      "text/html": [
       "<div>\n",
       "<style scoped>\n",
       "    .dataframe tbody tr th:only-of-type {\n",
       "        vertical-align: middle;\n",
       "    }\n",
       "\n",
       "    .dataframe tbody tr th {\n",
       "        vertical-align: top;\n",
       "    }\n",
       "\n",
       "    .dataframe thead th {\n",
       "        text-align: right;\n",
       "    }\n",
       "</style>\n",
       "<table border=\"1\" class=\"dataframe\">\n",
       "  <thead>\n",
       "    <tr style=\"text-align: right;\">\n",
       "      <th></th>\n",
       "      <th>tweet_id</th>\n",
       "      <th>in_reply_to_status_id</th>\n",
       "      <th>in_reply_to_user_id</th>\n",
       "      <th>timestamp</th>\n",
       "      <th>source</th>\n",
       "      <th>text</th>\n",
       "      <th>retweeted_status_id</th>\n",
       "      <th>retweeted_status_user_id</th>\n",
       "      <th>retweeted_status_timestamp</th>\n",
       "      <th>expanded_urls</th>\n",
       "      <th>rating_numerator</th>\n",
       "      <th>rating_denominator</th>\n",
       "      <th>name</th>\n",
       "      <th>doggo</th>\n",
       "      <th>floofer</th>\n",
       "      <th>pupper</th>\n",
       "      <th>puppo</th>\n",
       "    </tr>\n",
       "  </thead>\n",
       "  <tbody>\n",
       "    <tr>\n",
       "      <th>829</th>\n",
       "      <td>768909767477751808</td>\n",
       "      <td>NaN</td>\n",
       "      <td>NaN</td>\n",
       "      <td>2016-08-25 20:35:48 +0000</td>\n",
       "      <td>&lt;a href=\"http://twitter.com/download/iphone\" r...</td>\n",
       "      <td>RT @dog_rates: When it's Janet from accounting...</td>\n",
       "      <td>7.001438e+17</td>\n",
       "      <td>4.196984e+09</td>\n",
       "      <td>2016-02-18 02:24:13 +0000</td>\n",
       "      <td>https://twitter.com/dog_rates/status/700143752...</td>\n",
       "      <td>10</td>\n",
       "      <td>10</td>\n",
       "      <td>None</td>\n",
       "      <td>None</td>\n",
       "      <td>None</td>\n",
       "      <td>pupper</td>\n",
       "      <td>None</td>\n",
       "    </tr>\n",
       "    <tr>\n",
       "      <th>1971</th>\n",
       "      <td>673270968295534593</td>\n",
       "      <td>NaN</td>\n",
       "      <td>NaN</td>\n",
       "      <td>2015-12-05 22:41:22 +0000</td>\n",
       "      <td>&lt;a href=\"http://twitter.com/download/iphone\" r...</td>\n",
       "      <td>This is Mac. His dad's probably a lawyer. 11/1...</td>\n",
       "      <td>NaN</td>\n",
       "      <td>NaN</td>\n",
       "      <td>NaN</td>\n",
       "      <td>https://twitter.com/dog_rates/status/673270968...</td>\n",
       "      <td>11</td>\n",
       "      <td>10</td>\n",
       "      <td>Mac</td>\n",
       "      <td>None</td>\n",
       "      <td>None</td>\n",
       "      <td>None</td>\n",
       "      <td>None</td>\n",
       "    </tr>\n",
       "    <tr>\n",
       "      <th>2077</th>\n",
       "      <td>670833812859932673</td>\n",
       "      <td>NaN</td>\n",
       "      <td>NaN</td>\n",
       "      <td>2015-11-29 05:16:59 +0000</td>\n",
       "      <td>&lt;a href=\"http://twitter.com/download/iphone\" r...</td>\n",
       "      <td>This is Jett. He is unimpressed by flower. 7/1...</td>\n",
       "      <td>NaN</td>\n",
       "      <td>NaN</td>\n",
       "      <td>NaN</td>\n",
       "      <td>https://twitter.com/dog_rates/status/670833812...</td>\n",
       "      <td>7</td>\n",
       "      <td>10</td>\n",
       "      <td>Jett</td>\n",
       "      <td>None</td>\n",
       "      <td>None</td>\n",
       "      <td>None</td>\n",
       "      <td>None</td>\n",
       "    </tr>\n",
       "    <tr>\n",
       "      <th>178</th>\n",
       "      <td>857263160327368704</td>\n",
       "      <td>NaN</td>\n",
       "      <td>NaN</td>\n",
       "      <td>2017-04-26 16:00:39 +0000</td>\n",
       "      <td>&lt;a href=\"http://twitter.com/download/iphone\" r...</td>\n",
       "      <td>This is Oscar and Oliver. Oliver shrunk Oscar....</td>\n",
       "      <td>NaN</td>\n",
       "      <td>NaN</td>\n",
       "      <td>NaN</td>\n",
       "      <td>https://twitter.com/dog_rates/status/857263160...</td>\n",
       "      <td>13</td>\n",
       "      <td>10</td>\n",
       "      <td>Oscar</td>\n",
       "      <td>None</td>\n",
       "      <td>None</td>\n",
       "      <td>None</td>\n",
       "      <td>None</td>\n",
       "    </tr>\n",
       "    <tr>\n",
       "      <th>69</th>\n",
       "      <td>879050749262655488</td>\n",
       "      <td>NaN</td>\n",
       "      <td>NaN</td>\n",
       "      <td>2017-06-25 18:56:45 +0000</td>\n",
       "      <td>&lt;a href=\"http://twitter.com/download/iphone\" r...</td>\n",
       "      <td>This is Steven. He has trouble relating to oth...</td>\n",
       "      <td>NaN</td>\n",
       "      <td>NaN</td>\n",
       "      <td>NaN</td>\n",
       "      <td>https://twitter.com/dog_rates/status/879050749...</td>\n",
       "      <td>11</td>\n",
       "      <td>10</td>\n",
       "      <td>Steven</td>\n",
       "      <td>None</td>\n",
       "      <td>None</td>\n",
       "      <td>None</td>\n",
       "      <td>None</td>\n",
       "    </tr>\n",
       "    <tr>\n",
       "      <th>2271</th>\n",
       "      <td>667495797102141441</td>\n",
       "      <td>NaN</td>\n",
       "      <td>NaN</td>\n",
       "      <td>2015-11-20 00:12:54 +0000</td>\n",
       "      <td>&lt;a href=\"http://twitter.com\" rel=\"nofollow\"&gt;Tw...</td>\n",
       "      <td>This is Philippe from Soviet Russia. Commandin...</td>\n",
       "      <td>NaN</td>\n",
       "      <td>NaN</td>\n",
       "      <td>NaN</td>\n",
       "      <td>https://twitter.com/dog_rates/status/667495797...</td>\n",
       "      <td>9</td>\n",
       "      <td>10</td>\n",
       "      <td>Philippe</td>\n",
       "      <td>None</td>\n",
       "      <td>None</td>\n",
       "      <td>None</td>\n",
       "      <td>None</td>\n",
       "    </tr>\n",
       "    <tr>\n",
       "      <th>112</th>\n",
       "      <td>870804317367881728</td>\n",
       "      <td>NaN</td>\n",
       "      <td>NaN</td>\n",
       "      <td>2017-06-03 00:48:22 +0000</td>\n",
       "      <td>&lt;a href=\"http://twitter.com/download/iphone\" r...</td>\n",
       "      <td>Real funny guys. Sending in a pic without a do...</td>\n",
       "      <td>NaN</td>\n",
       "      <td>NaN</td>\n",
       "      <td>NaN</td>\n",
       "      <td>https://twitter.com/dog_rates/status/870804317...</td>\n",
       "      <td>11</td>\n",
       "      <td>10</td>\n",
       "      <td>None</td>\n",
       "      <td>None</td>\n",
       "      <td>None</td>\n",
       "      <td>None</td>\n",
       "      <td>None</td>\n",
       "    </tr>\n",
       "    <tr>\n",
       "      <th>245</th>\n",
       "      <td>845812042753855489</td>\n",
       "      <td>NaN</td>\n",
       "      <td>NaN</td>\n",
       "      <td>2017-03-26 01:38:00 +0000</td>\n",
       "      <td>&lt;a href=\"http://twitter.com/download/iphone\" r...</td>\n",
       "      <td>We usually don't rate polar bears but this one...</td>\n",
       "      <td>NaN</td>\n",
       "      <td>NaN</td>\n",
       "      <td>NaN</td>\n",
       "      <td>https://twitter.com/dog_rates/status/845812042...</td>\n",
       "      <td>13</td>\n",
       "      <td>10</td>\n",
       "      <td>None</td>\n",
       "      <td>None</td>\n",
       "      <td>None</td>\n",
       "      <td>None</td>\n",
       "      <td>None</td>\n",
       "    </tr>\n",
       "    <tr>\n",
       "      <th>25</th>\n",
       "      <td>887101392804085760</td>\n",
       "      <td>NaN</td>\n",
       "      <td>NaN</td>\n",
       "      <td>2017-07-18 00:07:08 +0000</td>\n",
       "      <td>&lt;a href=\"http://twitter.com/download/iphone\" r...</td>\n",
       "      <td>This... is a Jubilant Antarctic House Bear. We...</td>\n",
       "      <td>NaN</td>\n",
       "      <td>NaN</td>\n",
       "      <td>NaN</td>\n",
       "      <td>https://twitter.com/dog_rates/status/887101392...</td>\n",
       "      <td>12</td>\n",
       "      <td>10</td>\n",
       "      <td>None</td>\n",
       "      <td>None</td>\n",
       "      <td>None</td>\n",
       "      <td>None</td>\n",
       "      <td>None</td>\n",
       "    </tr>\n",
       "    <tr>\n",
       "      <th>724</th>\n",
       "      <td>782747134529531904</td>\n",
       "      <td>NaN</td>\n",
       "      <td>NaN</td>\n",
       "      <td>2016-10-03 01:00:34 +0000</td>\n",
       "      <td>&lt;a href=\"http://twitter.com/download/iphone\" r...</td>\n",
       "      <td>This is Deacon. He's the happiest almost dry d...</td>\n",
       "      <td>NaN</td>\n",
       "      <td>NaN</td>\n",
       "      <td>NaN</td>\n",
       "      <td>https://twitter.com/dog_rates/status/782747134...</td>\n",
       "      <td>11</td>\n",
       "      <td>10</td>\n",
       "      <td>Deacon</td>\n",
       "      <td>doggo</td>\n",
       "      <td>None</td>\n",
       "      <td>None</td>\n",
       "      <td>None</td>\n",
       "    </tr>\n",
       "  </tbody>\n",
       "</table>\n",
       "</div>"
      ],
      "text/plain": [
       "                tweet_id  in_reply_to_status_id  in_reply_to_user_id  \\\n",
       "829   768909767477751808                    NaN                  NaN   \n",
       "1971  673270968295534593                    NaN                  NaN   \n",
       "2077  670833812859932673                    NaN                  NaN   \n",
       "178   857263160327368704                    NaN                  NaN   \n",
       "69    879050749262655488                    NaN                  NaN   \n",
       "2271  667495797102141441                    NaN                  NaN   \n",
       "112   870804317367881728                    NaN                  NaN   \n",
       "245   845812042753855489                    NaN                  NaN   \n",
       "25    887101392804085760                    NaN                  NaN   \n",
       "724   782747134529531904                    NaN                  NaN   \n",
       "\n",
       "                      timestamp  \\\n",
       "829   2016-08-25 20:35:48 +0000   \n",
       "1971  2015-12-05 22:41:22 +0000   \n",
       "2077  2015-11-29 05:16:59 +0000   \n",
       "178   2017-04-26 16:00:39 +0000   \n",
       "69    2017-06-25 18:56:45 +0000   \n",
       "2271  2015-11-20 00:12:54 +0000   \n",
       "112   2017-06-03 00:48:22 +0000   \n",
       "245   2017-03-26 01:38:00 +0000   \n",
       "25    2017-07-18 00:07:08 +0000   \n",
       "724   2016-10-03 01:00:34 +0000   \n",
       "\n",
       "                                                 source  \\\n",
       "829   <a href=\"http://twitter.com/download/iphone\" r...   \n",
       "1971  <a href=\"http://twitter.com/download/iphone\" r...   \n",
       "2077  <a href=\"http://twitter.com/download/iphone\" r...   \n",
       "178   <a href=\"http://twitter.com/download/iphone\" r...   \n",
       "69    <a href=\"http://twitter.com/download/iphone\" r...   \n",
       "2271  <a href=\"http://twitter.com\" rel=\"nofollow\">Tw...   \n",
       "112   <a href=\"http://twitter.com/download/iphone\" r...   \n",
       "245   <a href=\"http://twitter.com/download/iphone\" r...   \n",
       "25    <a href=\"http://twitter.com/download/iphone\" r...   \n",
       "724   <a href=\"http://twitter.com/download/iphone\" r...   \n",
       "\n",
       "                                                   text  retweeted_status_id  \\\n",
       "829   RT @dog_rates: When it's Janet from accounting...         7.001438e+17   \n",
       "1971  This is Mac. His dad's probably a lawyer. 11/1...                  NaN   \n",
       "2077  This is Jett. He is unimpressed by flower. 7/1...                  NaN   \n",
       "178   This is Oscar and Oliver. Oliver shrunk Oscar....                  NaN   \n",
       "69    This is Steven. He has trouble relating to oth...                  NaN   \n",
       "2271  This is Philippe from Soviet Russia. Commandin...                  NaN   \n",
       "112   Real funny guys. Sending in a pic without a do...                  NaN   \n",
       "245   We usually don't rate polar bears but this one...                  NaN   \n",
       "25    This... is a Jubilant Antarctic House Bear. We...                  NaN   \n",
       "724   This is Deacon. He's the happiest almost dry d...                  NaN   \n",
       "\n",
       "      retweeted_status_user_id retweeted_status_timestamp  \\\n",
       "829               4.196984e+09  2016-02-18 02:24:13 +0000   \n",
       "1971                       NaN                        NaN   \n",
       "2077                       NaN                        NaN   \n",
       "178                        NaN                        NaN   \n",
       "69                         NaN                        NaN   \n",
       "2271                       NaN                        NaN   \n",
       "112                        NaN                        NaN   \n",
       "245                        NaN                        NaN   \n",
       "25                         NaN                        NaN   \n",
       "724                        NaN                        NaN   \n",
       "\n",
       "                                          expanded_urls  rating_numerator  \\\n",
       "829   https://twitter.com/dog_rates/status/700143752...                10   \n",
       "1971  https://twitter.com/dog_rates/status/673270968...                11   \n",
       "2077  https://twitter.com/dog_rates/status/670833812...                 7   \n",
       "178   https://twitter.com/dog_rates/status/857263160...                13   \n",
       "69    https://twitter.com/dog_rates/status/879050749...                11   \n",
       "2271  https://twitter.com/dog_rates/status/667495797...                 9   \n",
       "112   https://twitter.com/dog_rates/status/870804317...                11   \n",
       "245   https://twitter.com/dog_rates/status/845812042...                13   \n",
       "25    https://twitter.com/dog_rates/status/887101392...                12   \n",
       "724   https://twitter.com/dog_rates/status/782747134...                11   \n",
       "\n",
       "      rating_denominator      name  doggo floofer  pupper puppo  \n",
       "829                   10      None   None    None  pupper  None  \n",
       "1971                  10       Mac   None    None    None  None  \n",
       "2077                  10      Jett   None    None    None  None  \n",
       "178                   10     Oscar   None    None    None  None  \n",
       "69                    10    Steven   None    None    None  None  \n",
       "2271                  10  Philippe   None    None    None  None  \n",
       "112                   10      None   None    None    None  None  \n",
       "245                   10      None   None    None    None  None  \n",
       "25                    10      None   None    None    None  None  \n",
       "724                   10    Deacon  doggo    None    None  None  "
      ]
     },
     "execution_count": 12,
     "metadata": {},
     "output_type": "execute_result"
    }
   ],
   "source": [
    "# view a sample 10 rows of the dataset.\n",
    "twitter_archive.sample(10)"
   ]
  },
  {
   "cell_type": "markdown",
   "metadata": {},
   "source": [
    "* Based on visual assessment of the dataframe, we can see that there are some unusual names in the `name` column, e.g. a, an, the. This is a quality issue.\n",
    "\n",
    "* Also, the dog stages are in four separate columns when they should be in one column. This makes the data untidy."
   ]
  },
  {
   "cell_type": "code",
   "execution_count": 13,
   "metadata": {
    "scrolled": true
   },
   "outputs": [
    {
     "data": {
      "text/plain": [
       "(2356, 17)"
      ]
     },
     "execution_count": 13,
     "metadata": {},
     "output_type": "execute_result"
    }
   ],
   "source": [
    "# show number of columns and rows within the dataset.\n",
    "twitter_archive.shape"
   ]
  },
  {
   "cell_type": "code",
   "execution_count": 14,
   "metadata": {},
   "outputs": [
    {
     "data": {
      "text/plain": [
       "0"
      ]
     },
     "execution_count": 14,
     "metadata": {},
     "output_type": "execute_result"
    }
   ],
   "source": [
    "# Show duplicates in the dataset.\n",
    "sum(twitter_archive.duplicated())"
   ]
  },
  {
   "cell_type": "markdown",
   "metadata": {},
   "source": [
    "The dataset consists of 2356 columns and 17 rows. There are no two identical rows in the dataset."
   ]
  },
  {
   "cell_type": "code",
   "execution_count": 15,
   "metadata": {
    "scrolled": true
   },
   "outputs": [
    {
     "name": "stdout",
     "output_type": "stream",
     "text": [
      "<class 'pandas.core.frame.DataFrame'>\n",
      "RangeIndex: 2356 entries, 0 to 2355\n",
      "Data columns (total 17 columns):\n",
      " #   Column                      Non-Null Count  Dtype  \n",
      "---  ------                      --------------  -----  \n",
      " 0   tweet_id                    2356 non-null   int64  \n",
      " 1   in_reply_to_status_id       78 non-null     float64\n",
      " 2   in_reply_to_user_id         78 non-null     float64\n",
      " 3   timestamp                   2356 non-null   object \n",
      " 4   source                      2356 non-null   object \n",
      " 5   text                        2356 non-null   object \n",
      " 6   retweeted_status_id         181 non-null    float64\n",
      " 7   retweeted_status_user_id    181 non-null    float64\n",
      " 8   retweeted_status_timestamp  181 non-null    object \n",
      " 9   expanded_urls               2297 non-null   object \n",
      " 10  rating_numerator            2356 non-null   int64  \n",
      " 11  rating_denominator          2356 non-null   int64  \n",
      " 12  name                        2356 non-null   object \n",
      " 13  doggo                       2356 non-null   object \n",
      " 14  floofer                     2356 non-null   object \n",
      " 15  pupper                      2356 non-null   object \n",
      " 16  puppo                       2356 non-null   object \n",
      "dtypes: float64(4), int64(3), object(10)\n",
      "memory usage: 313.0+ KB\n"
     ]
    }
   ],
   "source": [
    "# Show concise summary of the dataframe.\n",
    "twitter_archive.info()"
   ]
  },
  {
   "cell_type": "markdown",
   "metadata": {},
   "source": [
    "Using the `.info()` method and focusing on the datatypes, we have discovered the following issues:\n",
    "* tweet_id is a float instead of string.\n",
    "* timstamp is a string not a datetime datatype.\n",
    "* The four columns of the dog stages `(doggo, floofer, pupper, and puppo)` should be a categorical datatype instead of string.\n",
    "\n",
    "The data contains 181 duplicate tweets (retweets) as evident from `retweeted_status_id, retweeted_status_user_id, and retweeted_status_timestamp`.\n"
   ]
  },
  {
   "cell_type": "markdown",
   "metadata": {},
   "source": [
    "In the visual assessment, we have identified some unusual names in the `name` column, and now we will conduct programmatic assessment using the `.unique` and `value_counts` methods."
   ]
  },
  {
   "cell_type": "code",
   "execution_count": 16,
   "metadata": {
    "scrolled": false
   },
   "outputs": [
    {
     "name": "stdout",
     "output_type": "stream",
     "text": [
      "['Phineas' 'Tilly' 'Archie' 'Darla' 'Franklin' 'None' 'Jax' 'Zoey'\n",
      " 'Cassie' 'Koda' 'Bruno' 'Ted' 'Stuart' 'Oliver' 'Jim' 'Zeke' 'Ralphus'\n",
      " 'Canela' 'Gerald' 'Jeffrey' 'such' 'Maya' 'Mingus' 'Derek' 'Roscoe'\n",
      " 'Waffles' 'Jimbo' 'Maisey' 'Lilly' 'Earl' 'Lola' 'Kevin' 'Yogi' 'Noah'\n",
      " 'Bella' 'Grizzwald' 'Rusty' 'Gus' 'Stanley' 'Alfy' 'Koko' 'Rey' 'Gary'\n",
      " 'a' 'Elliot' 'Louis' 'Jesse' 'Romeo' 'Bailey' 'Duddles' 'Jack' 'Emmy'\n",
      " 'Steven' 'Beau' 'Snoopy' 'Shadow' 'Terrance' 'Aja' 'Penny' 'Dante'\n",
      " 'Nelly' 'Ginger' 'Benedict' 'Venti' 'Goose' 'Nugget' 'Cash' 'Coco' 'Jed'\n",
      " 'Sebastian' 'Walter' 'Sierra' 'Monkey' 'Harry' 'Kody' 'Lassie' 'Rover'\n",
      " 'Napolean' 'Dawn' 'Boomer' 'Cody' 'Rumble' 'Clifford' 'quite' 'Dewey'\n",
      " 'Scout' 'Gizmo' 'Cooper' 'Harold' 'Shikha' 'Jamesy' 'Lili' 'Sammy'\n",
      " 'Meatball' 'Paisley' 'Albus' 'Neptune' 'Quinn' 'Belle' 'Zooey' 'Dave'\n",
      " 'Jersey' 'Hobbes' 'Burt' 'Lorenzo' 'Carl' 'Jordy' 'Milky' 'Trooper'\n",
      " 'Winston' 'Sophie' 'Wyatt' 'Rosie' 'Thor' 'Oscar' 'Luna' 'Callie'\n",
      " 'Cermet' 'George' 'Marlee' 'Arya' 'Einstein' 'Alice' 'Rumpole' 'Benny'\n",
      " 'Aspen' 'Jarod' 'Wiggles' 'General' 'Sailor' 'Astrid' 'Iggy' 'Snoop'\n",
      " 'Kyle' 'Leo' 'Riley' 'Gidget' 'Noosh' 'Odin' 'Jerry' 'Charlie' 'Georgie'\n",
      " 'Rontu' 'Cannon' 'Furzey' 'Daisy' 'Tuck' 'Barney' 'Vixen' 'Jarvis'\n",
      " 'Mimosa' 'Pickles' 'Bungalo' 'Brady' 'Margo' 'Sadie' 'Hank' 'Tycho'\n",
      " 'Stephan' 'Indie' 'Winnie' 'Bentley' 'Ken' 'Max' 'Maddie' 'Pipsy' 'Monty'\n",
      " 'Sojourner' 'Odie' 'Arlo' 'Sunny' 'Vincent' 'Lucy' 'Clark' 'Mookie'\n",
      " 'Meera' 'Buddy' 'Ava' 'Rory' 'Eli' 'Ash' 'Tucker' 'Tobi' 'Chester'\n",
      " 'Wilson' 'Sunshine' 'Lipton' 'Gabby' 'Bronte' 'Poppy' 'Rhino' 'Willow'\n",
      " 'not' 'Orion' 'Eevee' 'Smiley' 'Logan' 'Moreton' 'Klein' 'Miguel'\n",
      " 'Emanuel' 'Kuyu' 'Dutch' 'Pete' 'Scooter' 'Reggie' 'Kyro' 'Samson' 'Loki'\n",
      " 'Mia' 'Malcolm' 'Dexter' 'Alfie' 'Fiona' 'one' 'Mutt' 'Bear' 'Doobert'\n",
      " 'Beebop' 'Alexander' 'Sailer' 'Brutus' 'Kona' 'Boots' 'Ralphie' 'Phil'\n",
      " 'Cupid' 'Pawnd' 'Pilot' 'Ike' 'Mo' 'Toby' 'Sweet' 'Pablo' 'Nala' 'Balto'\n",
      " 'Crawford' 'Gabe' 'Mattie' 'Jimison' 'Hercules' 'Duchess' 'Harlso'\n",
      " 'Sampson' 'Sundance' 'Luca' 'Flash' 'Finn' 'Peaches' 'Howie' 'Jazzy'\n",
      " 'Anna' 'Bo' 'Seamus' 'Wafer' 'Chelsea' 'Tom' 'Moose' 'Florence' 'Autumn'\n",
      " 'Dido' 'Eugene' 'Herschel' 'Strudel' 'Tebow' 'Chloe' 'Betty' 'Timber'\n",
      " 'Binky' 'Dudley' 'Comet' 'Larry' 'Levi' 'Akumi' 'Titan' 'Olivia' 'Alf'\n",
      " 'Oshie' 'Bruce' 'Chubbs' 'Sky' 'Atlas' 'Eleanor' 'Layla' 'Rocky' 'Baron'\n",
      " 'Tyr' 'Bauer' 'Swagger' 'Brandi' 'Mary' 'Moe' 'Halo' 'Augie' 'Craig'\n",
      " 'Sam' 'Hunter' 'Pavlov' 'Maximus' 'Wallace' 'Ito' 'Milo' 'Ollie' 'Cali'\n",
      " 'Lennon' 'incredibly' 'Major' 'Duke' 'Reginald' 'Sansa' 'Shooter'\n",
      " 'Django' 'Diogi' 'Sonny' 'Philbert' 'Marley' 'Severus' 'Ronnie' 'Anakin'\n",
      " 'Bones' 'Mauve' 'Chef' 'Doc' 'Sobe' 'Longfellow' 'Mister' 'Iroh' 'Baloo'\n",
      " 'Stubert' 'Paull' 'Timison' 'Davey' 'Pancake' 'Tyrone' 'Snicku' 'Ruby'\n",
      " 'Brody' 'Rizzy' 'Mack' 'Butter' 'Nimbus' 'Laika' 'Dobby' 'Juno' 'Maude'\n",
      " 'Lily' 'Newt' 'Benji' 'Nida' 'Robin' 'Monster' 'BeBe' 'Remus' 'Mabel'\n",
      " 'Misty' 'Happy' 'Mosby' 'Maggie' 'Leela' 'Ralphy' 'Brownie' 'Meyer'\n",
      " 'Stella' 'mad' 'Frank' 'Tonks' 'Lincoln' 'Oakley' 'Dale' 'Rizzo' 'Arnie'\n",
      " 'Pinot' 'Dallas' 'Hero' 'Frankie' 'Stormy' 'Mairi' 'Loomis' 'Godi'\n",
      " 'Kenny' 'Deacon' 'Timmy' 'Harper' 'Chipson' 'Combo' 'Dash' 'Bell'\n",
      " 'Hurley' 'Jay' 'Mya' 'Strider' 'an' 'Wesley' 'Solomon' 'Huck' 'very' 'O'\n",
      " 'Blue' 'Finley' 'Sprinkles' 'Heinrich' 'Shakespeare' 'Fizz' 'Chip' 'Grey'\n",
      " 'Roosevelt' 'Gromit' 'Willem' 'Dakota' 'Dixie' 'Al' 'Jackson' 'just'\n",
      " 'Carbon' 'DonDon' 'Kirby' 'Lou' 'Nollie' 'Chevy' 'Tito' 'Louie' 'Rupert'\n",
      " 'Rufus' 'Brudge' 'Shadoe' 'Colby' 'Angel' 'Brat' 'Tove' 'my' 'Aubie'\n",
      " 'Kota' 'Eve' 'Glenn' 'Shelby' 'Sephie' 'Bonaparte' 'Albert' 'Wishes'\n",
      " 'Rose' 'Theo' 'Rocco' 'Fido' 'Emma' 'Spencer' 'Lilli' 'Boston'\n",
      " 'Brandonald' 'Corey' 'Leonard' 'Chompsky' 'Beckham' 'Devón' 'Gert'\n",
      " 'Watson' 'Rubio' 'Keith' 'Dex' 'Carly' 'Ace' 'Tayzie' 'Grizzie' 'Fred'\n",
      " 'Gilbert' 'Zoe' 'Stewie' 'Calvin' 'Lilah' 'Spanky' 'Jameson' 'Piper'\n",
      " 'Atticus' 'Blu' 'Dietrich' 'Divine' 'Tripp' 'his' 'Cora' 'Huxley'\n",
      " 'Keurig' 'Bookstore' 'Linus' 'Abby' 'Shaggy' 'Shiloh' 'Gustav' 'Arlen'\n",
      " 'Percy' 'Lenox' 'Sugar' 'Harvey' 'Blanket' 'actually' 'Geno' 'Stark'\n",
      " 'Beya' 'Kilo' 'Kayla' 'Maxaroni' 'Doug' 'Edmund' 'Aqua' 'Theodore'\n",
      " 'Chase' 'getting' 'Rorie' 'Simba' 'Charles' 'Bayley' 'Axel' 'Storkson'\n",
      " 'Remy' 'Chadrick' 'Kellogg' 'Buckley' 'Livvie' 'Terry' 'Hermione'\n",
      " 'Ralpher' 'Aldrick' 'this' 'unacceptable' 'Rooney' 'Crystal' 'Ziva'\n",
      " 'Stefan' 'Pupcasso' 'Puff' 'Flurpson' 'Coleman' 'Enchilada' 'Raymond'\n",
      " 'all' 'Rueben' 'Cilantro' 'Karll' 'Sprout' 'Blitz' 'Bloop' 'Lillie'\n",
      " 'Ashleigh' 'Kreggory' 'Sarge' 'Luther' 'Ivar' 'Jangle' 'Schnitzel'\n",
      " 'Panda' 'Berkeley' 'Ralphé' 'Charleson' 'Clyde' 'Harnold' 'Sid' 'Pippa'\n",
      " 'Otis' 'Carper' 'Bowie' 'Alexanderson' 'Suki' 'Barclay' 'Skittle' 'Ebby'\n",
      " 'Flávio' 'Smokey' 'Link' 'Jennifur' 'Ozzy' 'Bluebert' 'Stephanus'\n",
      " 'Bubbles' 'old' 'Zeus' 'Bertson' 'Nico' 'Michelangelope' 'Siba' 'Calbert'\n",
      " 'Curtis' 'Travis' 'Thumas' 'Kanu' 'Lance' 'Opie' 'Kane' 'Olive'\n",
      " 'Chuckles' 'Staniel' 'Sora' 'Beemo' 'Gunner' 'infuriating' 'Lacy' 'Tater'\n",
      " 'Olaf' 'Cecil' 'Vince' 'Karma' 'Billy' 'Walker' 'Rodney' 'Klevin'\n",
      " 'Malikai' 'Bobble' 'River' 'Jebberson' 'Remington' 'Farfle' 'Jiminus'\n",
      " 'Clarkus' 'Finnegus' 'Cupcake' 'Kathmandu' 'Ellie' 'Katie' 'Kara' 'Adele'\n",
      " 'Zara' 'Ambrose' 'Jimothy' 'Bode' 'Terrenth' 'Reese' 'Chesterson' 'Lucia'\n",
      " 'Bisquick' 'Ralphson' 'Socks' 'Rambo' 'Rudy' 'Fiji' 'Rilo' 'Bilbo'\n",
      " 'Coopson' 'Yoda' 'Millie' 'Chet' 'Crouton' 'Daniel' 'Kaia' 'Murphy'\n",
      " 'Dotsy' 'Eazy' 'Coops' 'Fillup' 'Miley' 'Charl' 'Reagan' 'Yukon' 'CeCe'\n",
      " 'Cuddles' 'Claude' 'Jessiga' 'Carter' 'Ole' 'Pherb' 'Blipson' 'Reptar'\n",
      " 'Trevith' 'Berb' 'Bob' 'Colin' 'Brian' 'Oliviér' 'Grady' 'Kobe'\n",
      " 'Freddery' 'Bodie' 'Dunkin' 'Wally' 'Tupawc' 'Amber' 'Edgar' 'Teddy'\n",
      " 'Kingsley' 'Brockly' 'Richie' 'Molly' 'Vinscent' 'Cedrick' 'Hazel' 'Lolo'\n",
      " 'Eriq' 'Phred' 'the' 'Oddie' 'Maxwell' 'Geoff' 'Covach' 'Durg' 'Fynn'\n",
      " 'Ricky' 'Herald' 'Lucky' 'Ferg' 'Trip' 'Clarence' 'Hamrick' 'Brad'\n",
      " 'Pubert' 'Frönq' 'Derby' 'Lizzie' 'Ember' 'Blakely' 'Opal' 'Marq'\n",
      " 'Kramer' 'Barry' 'Gordon' 'Baxter' 'Mona' 'Horace' 'Crimson' 'Birf'\n",
      " 'Hammond' 'Lorelei' 'Marty' 'Brooks' 'Petrick' 'Hubertson' 'Gerbald'\n",
      " 'Oreo' 'Bruiser' 'Perry' 'Bobby' 'Jeph' 'Obi' 'Tino' 'Kulet' 'Sweets'\n",
      " 'Lupe' 'Tiger' 'Jiminy' 'Griffin' 'Banjo' 'Brandy' 'Lulu' 'Darrel' 'Taco'\n",
      " 'Joey' 'Patrick' 'Kreg' 'Todo' 'Tess' 'Ulysses' 'Toffee' 'Apollo' 'Asher'\n",
      " 'Glacier' 'Chuck' 'Champ' 'Ozzie' 'Griswold' 'Cheesy' 'Moofasa' 'Hector'\n",
      " 'Goliath' 'Kawhi' 'by' 'Emmie' 'Penelope' 'Willie' 'Rinna' 'Mike'\n",
      " 'William' 'Dwight' 'Evy' 'officially' 'Rascal' 'Linda' 'Tug' 'Tango'\n",
      " 'Grizz' 'Jerome' 'Crumpet' 'Jessifer' 'Izzy' 'Ralph' 'Sandy' 'Humphrey'\n",
      " 'Tassy' 'Juckson' 'Chuq' 'Tyrus' 'Karl' 'Godzilla' 'Vinnie' 'Kenneth'\n",
      " 'Herm' 'Bert' 'Striker' 'Donny' 'Pepper' 'Bernie' 'Buddah' 'Lenny'\n",
      " 'Arnold' 'Zuzu' 'Mollie' 'Laela' 'Tedders' 'Superpup' 'Rufio' 'Jeb'\n",
      " 'Rodman' 'Jonah' 'Chesney' 'life' 'Henry' 'Bobbay' 'Mitch' 'Kaiya' 'Acro'\n",
      " 'Aiden' 'Obie' 'Dot' 'Shnuggles' 'Kendall' 'Jeffri' 'Steve' 'Mac'\n",
      " 'Fletcher' 'Kenzie' 'Pumpkin' 'Schnozz' 'Gustaf' 'Cheryl' 'Ed' 'Leonidas'\n",
      " 'Norman' 'Caryl' 'Scott' 'Taz' 'Darby' 'Jackie' 'light' 'Jazz' 'Franq'\n",
      " 'Pippin' 'Rolf' 'Snickers' 'Ridley' 'Cal' 'Bradley' 'Bubba' 'Tuco'\n",
      " 'Patch' 'Mojo' 'Batdog' 'Dylan' 'space' 'Mark' 'JD' 'Alejandro'\n",
      " 'Scruffers' 'Pip' 'Julius' 'Tanner' 'Sparky' 'Anthony' 'Holly' 'Jett'\n",
      " 'Amy' 'Sage' 'Andy' 'Mason' 'Trigger' 'Antony' 'Creg' 'Traviss' 'Gin'\n",
      " 'Jeffrie' 'Danny' 'Ester' 'Pluto' 'Bloo' 'Edd' 'Willy' 'Herb' 'Damon'\n",
      " 'Peanut' 'Nigel' 'Butters' 'Sandra' 'Fabio' 'Randall' 'Liam' 'Tommy'\n",
      " 'Ben' 'Raphael' 'Julio' 'Andru' 'Kloey' 'Shawwn' 'Skye' 'Kollin' 'Ronduh'\n",
      " 'Billl' 'Saydee' 'Dug' 'Tessa' 'Sully' 'Kirk' 'Ralf' 'Clarq' 'Jaspers'\n",
      " 'Samsom' 'Harrison' 'Chaz' 'Jeremy' 'Jaycob' 'Lambeau' 'Ruffles' 'Amélie'\n",
      " 'Bobb' 'Banditt' 'Kevon' 'Winifred' 'Hanz' 'Churlie' 'Zeek' 'Timofy'\n",
      " 'Maks' 'Jomathan' 'Kallie' 'Marvin' 'Spark' 'Gòrdón' 'Jo' 'DayZ' 'Jareld'\n",
      " 'Torque' 'Ron' 'Skittles' 'Cleopatricia' 'Erik' 'Stu' 'Tedrick' 'Filup'\n",
      " 'Kial' 'Naphaniel' 'Dook' 'Hall' 'Philippe' 'Biden' 'Fwed' 'Genevieve'\n",
      " 'Joshwa' 'Bradlay' 'Clybe' 'Keet' 'Carll' 'Jockson' 'Josep' 'Lugan'\n",
      " 'Christoper']\n",
      "None          745\n",
      "a              55\n",
      "Charlie        12\n",
      "Cooper         11\n",
      "Lucy           11\n",
      "             ... \n",
      "Dex             1\n",
      "Ace             1\n",
      "Tayzie          1\n",
      "Grizzie         1\n",
      "Christoper      1\n",
      "Name: name, Length: 957, dtype: int64\n"
     ]
    }
   ],
   "source": [
    "# Print unique values and counts in the 'name' column.\n",
    "print(twitter_archive.name.unique())\n",
    "print(twitter_archive.name.value_counts())"
   ]
  },
  {
   "cell_type": "markdown",
   "metadata": {},
   "source": [
    "From the above output, we can identify extra odd names, e.g. such, old, his, all, by. One thing to note is that all these unusual names start with a small letter, whereas other names start with a capital letter. So, names starting with small letters are not real names.\n",
    "\n",
    "We can also see 745 *None* enteries which we believe that it was used for dogs with no names."
   ]
  },
  {
   "cell_type": "markdown",
   "metadata": {},
   "source": [
    "<a id='assessing-2'></a>\n",
    "### 3.2. Assessing Tweet Image Predictions Data"
   ]
  },
  {
   "cell_type": "code",
   "execution_count": 17,
   "metadata": {
    "scrolled": true
   },
   "outputs": [
    {
     "data": {
      "text/html": [
       "<div>\n",
       "<style scoped>\n",
       "    .dataframe tbody tr th:only-of-type {\n",
       "        vertical-align: middle;\n",
       "    }\n",
       "\n",
       "    .dataframe tbody tr th {\n",
       "        vertical-align: top;\n",
       "    }\n",
       "\n",
       "    .dataframe thead th {\n",
       "        text-align: right;\n",
       "    }\n",
       "</style>\n",
       "<table border=\"1\" class=\"dataframe\">\n",
       "  <thead>\n",
       "    <tr style=\"text-align: right;\">\n",
       "      <th></th>\n",
       "      <th>tweet_id</th>\n",
       "      <th>jpg_url</th>\n",
       "      <th>img_num</th>\n",
       "      <th>p1</th>\n",
       "      <th>p1_conf</th>\n",
       "      <th>p1_dog</th>\n",
       "      <th>p2</th>\n",
       "      <th>p2_conf</th>\n",
       "      <th>p2_dog</th>\n",
       "      <th>p3</th>\n",
       "      <th>p3_conf</th>\n",
       "      <th>p3_dog</th>\n",
       "    </tr>\n",
       "  </thead>\n",
       "  <tbody>\n",
       "    <tr>\n",
       "      <th>0</th>\n",
       "      <td>666020888022790149</td>\n",
       "      <td>https://pbs.twimg.com/media/CT4udn0WwAA0aMy.jpg</td>\n",
       "      <td>1</td>\n",
       "      <td>Welsh_springer_spaniel</td>\n",
       "      <td>0.465074</td>\n",
       "      <td>True</td>\n",
       "      <td>collie</td>\n",
       "      <td>0.156665</td>\n",
       "      <td>True</td>\n",
       "      <td>Shetland_sheepdog</td>\n",
       "      <td>0.061428</td>\n",
       "      <td>True</td>\n",
       "    </tr>\n",
       "    <tr>\n",
       "      <th>1</th>\n",
       "      <td>666029285002620928</td>\n",
       "      <td>https://pbs.twimg.com/media/CT42GRgUYAA5iDo.jpg</td>\n",
       "      <td>1</td>\n",
       "      <td>redbone</td>\n",
       "      <td>0.506826</td>\n",
       "      <td>True</td>\n",
       "      <td>miniature_pinscher</td>\n",
       "      <td>0.074192</td>\n",
       "      <td>True</td>\n",
       "      <td>Rhodesian_ridgeback</td>\n",
       "      <td>0.072010</td>\n",
       "      <td>True</td>\n",
       "    </tr>\n",
       "    <tr>\n",
       "      <th>2</th>\n",
       "      <td>666033412701032449</td>\n",
       "      <td>https://pbs.twimg.com/media/CT4521TWwAEvMyu.jpg</td>\n",
       "      <td>1</td>\n",
       "      <td>German_shepherd</td>\n",
       "      <td>0.596461</td>\n",
       "      <td>True</td>\n",
       "      <td>malinois</td>\n",
       "      <td>0.138584</td>\n",
       "      <td>True</td>\n",
       "      <td>bloodhound</td>\n",
       "      <td>0.116197</td>\n",
       "      <td>True</td>\n",
       "    </tr>\n",
       "    <tr>\n",
       "      <th>3</th>\n",
       "      <td>666044226329800704</td>\n",
       "      <td>https://pbs.twimg.com/media/CT5Dr8HUEAA-lEu.jpg</td>\n",
       "      <td>1</td>\n",
       "      <td>Rhodesian_ridgeback</td>\n",
       "      <td>0.408143</td>\n",
       "      <td>True</td>\n",
       "      <td>redbone</td>\n",
       "      <td>0.360687</td>\n",
       "      <td>True</td>\n",
       "      <td>miniature_pinscher</td>\n",
       "      <td>0.222752</td>\n",
       "      <td>True</td>\n",
       "    </tr>\n",
       "    <tr>\n",
       "      <th>4</th>\n",
       "      <td>666049248165822465</td>\n",
       "      <td>https://pbs.twimg.com/media/CT5IQmsXIAAKY4A.jpg</td>\n",
       "      <td>1</td>\n",
       "      <td>miniature_pinscher</td>\n",
       "      <td>0.560311</td>\n",
       "      <td>True</td>\n",
       "      <td>Rottweiler</td>\n",
       "      <td>0.243682</td>\n",
       "      <td>True</td>\n",
       "      <td>Doberman</td>\n",
       "      <td>0.154629</td>\n",
       "      <td>True</td>\n",
       "    </tr>\n",
       "  </tbody>\n",
       "</table>\n",
       "</div>"
      ],
      "text/plain": [
       "             tweet_id                                          jpg_url  \\\n",
       "0  666020888022790149  https://pbs.twimg.com/media/CT4udn0WwAA0aMy.jpg   \n",
       "1  666029285002620928  https://pbs.twimg.com/media/CT42GRgUYAA5iDo.jpg   \n",
       "2  666033412701032449  https://pbs.twimg.com/media/CT4521TWwAEvMyu.jpg   \n",
       "3  666044226329800704  https://pbs.twimg.com/media/CT5Dr8HUEAA-lEu.jpg   \n",
       "4  666049248165822465  https://pbs.twimg.com/media/CT5IQmsXIAAKY4A.jpg   \n",
       "\n",
       "   img_num                      p1   p1_conf  p1_dog                  p2  \\\n",
       "0        1  Welsh_springer_spaniel  0.465074    True              collie   \n",
       "1        1                 redbone  0.506826    True  miniature_pinscher   \n",
       "2        1         German_shepherd  0.596461    True            malinois   \n",
       "3        1     Rhodesian_ridgeback  0.408143    True             redbone   \n",
       "4        1      miniature_pinscher  0.560311    True          Rottweiler   \n",
       "\n",
       "    p2_conf  p2_dog                   p3   p3_conf  p3_dog  \n",
       "0  0.156665    True    Shetland_sheepdog  0.061428    True  \n",
       "1  0.074192    True  Rhodesian_ridgeback  0.072010    True  \n",
       "2  0.138584    True           bloodhound  0.116197    True  \n",
       "3  0.360687    True   miniature_pinscher  0.222752    True  \n",
       "4  0.243682    True             Doberman  0.154629    True  "
      ]
     },
     "execution_count": 17,
     "metadata": {},
     "output_type": "execute_result"
    }
   ],
   "source": [
    "# view the first 5 rows of the dataset.\n",
    "img_prediction.head()"
   ]
  },
  {
   "cell_type": "code",
   "execution_count": 18,
   "metadata": {},
   "outputs": [
    {
     "data": {
      "text/html": [
       "<div>\n",
       "<style scoped>\n",
       "    .dataframe tbody tr th:only-of-type {\n",
       "        vertical-align: middle;\n",
       "    }\n",
       "\n",
       "    .dataframe tbody tr th {\n",
       "        vertical-align: top;\n",
       "    }\n",
       "\n",
       "    .dataframe thead th {\n",
       "        text-align: right;\n",
       "    }\n",
       "</style>\n",
       "<table border=\"1\" class=\"dataframe\">\n",
       "  <thead>\n",
       "    <tr style=\"text-align: right;\">\n",
       "      <th></th>\n",
       "      <th>tweet_id</th>\n",
       "      <th>jpg_url</th>\n",
       "      <th>img_num</th>\n",
       "      <th>p1</th>\n",
       "      <th>p1_conf</th>\n",
       "      <th>p1_dog</th>\n",
       "      <th>p2</th>\n",
       "      <th>p2_conf</th>\n",
       "      <th>p2_dog</th>\n",
       "      <th>p3</th>\n",
       "      <th>p3_conf</th>\n",
       "      <th>p3_dog</th>\n",
       "    </tr>\n",
       "  </thead>\n",
       "  <tbody>\n",
       "    <tr>\n",
       "      <th>2070</th>\n",
       "      <td>891327558926688256</td>\n",
       "      <td>https://pbs.twimg.com/media/DF6hr6BUMAAzZgT.jpg</td>\n",
       "      <td>2</td>\n",
       "      <td>basset</td>\n",
       "      <td>0.555712</td>\n",
       "      <td>True</td>\n",
       "      <td>English_springer</td>\n",
       "      <td>0.225770</td>\n",
       "      <td>True</td>\n",
       "      <td>German_short-haired_pointer</td>\n",
       "      <td>0.175219</td>\n",
       "      <td>True</td>\n",
       "    </tr>\n",
       "    <tr>\n",
       "      <th>2071</th>\n",
       "      <td>891689557279858688</td>\n",
       "      <td>https://pbs.twimg.com/media/DF_q7IAWsAEuuN8.jpg</td>\n",
       "      <td>1</td>\n",
       "      <td>paper_towel</td>\n",
       "      <td>0.170278</td>\n",
       "      <td>False</td>\n",
       "      <td>Labrador_retriever</td>\n",
       "      <td>0.168086</td>\n",
       "      <td>True</td>\n",
       "      <td>spatula</td>\n",
       "      <td>0.040836</td>\n",
       "      <td>False</td>\n",
       "    </tr>\n",
       "    <tr>\n",
       "      <th>2072</th>\n",
       "      <td>891815181378084864</td>\n",
       "      <td>https://pbs.twimg.com/media/DGBdLU1WsAANxJ9.jpg</td>\n",
       "      <td>1</td>\n",
       "      <td>Chihuahua</td>\n",
       "      <td>0.716012</td>\n",
       "      <td>True</td>\n",
       "      <td>malamute</td>\n",
       "      <td>0.078253</td>\n",
       "      <td>True</td>\n",
       "      <td>kelpie</td>\n",
       "      <td>0.031379</td>\n",
       "      <td>True</td>\n",
       "    </tr>\n",
       "    <tr>\n",
       "      <th>2073</th>\n",
       "      <td>892177421306343426</td>\n",
       "      <td>https://pbs.twimg.com/media/DGGmoV4XsAAUL6n.jpg</td>\n",
       "      <td>1</td>\n",
       "      <td>Chihuahua</td>\n",
       "      <td>0.323581</td>\n",
       "      <td>True</td>\n",
       "      <td>Pekinese</td>\n",
       "      <td>0.090647</td>\n",
       "      <td>True</td>\n",
       "      <td>papillon</td>\n",
       "      <td>0.068957</td>\n",
       "      <td>True</td>\n",
       "    </tr>\n",
       "    <tr>\n",
       "      <th>2074</th>\n",
       "      <td>892420643555336193</td>\n",
       "      <td>https://pbs.twimg.com/media/DGKD1-bXoAAIAUK.jpg</td>\n",
       "      <td>1</td>\n",
       "      <td>orange</td>\n",
       "      <td>0.097049</td>\n",
       "      <td>False</td>\n",
       "      <td>bagel</td>\n",
       "      <td>0.085851</td>\n",
       "      <td>False</td>\n",
       "      <td>banana</td>\n",
       "      <td>0.076110</td>\n",
       "      <td>False</td>\n",
       "    </tr>\n",
       "  </tbody>\n",
       "</table>\n",
       "</div>"
      ],
      "text/plain": [
       "                tweet_id                                          jpg_url  \\\n",
       "2070  891327558926688256  https://pbs.twimg.com/media/DF6hr6BUMAAzZgT.jpg   \n",
       "2071  891689557279858688  https://pbs.twimg.com/media/DF_q7IAWsAEuuN8.jpg   \n",
       "2072  891815181378084864  https://pbs.twimg.com/media/DGBdLU1WsAANxJ9.jpg   \n",
       "2073  892177421306343426  https://pbs.twimg.com/media/DGGmoV4XsAAUL6n.jpg   \n",
       "2074  892420643555336193  https://pbs.twimg.com/media/DGKD1-bXoAAIAUK.jpg   \n",
       "\n",
       "      img_num           p1   p1_conf  p1_dog                  p2   p2_conf  \\\n",
       "2070        2       basset  0.555712    True    English_springer  0.225770   \n",
       "2071        1  paper_towel  0.170278   False  Labrador_retriever  0.168086   \n",
       "2072        1    Chihuahua  0.716012    True            malamute  0.078253   \n",
       "2073        1    Chihuahua  0.323581    True            Pekinese  0.090647   \n",
       "2074        1       orange  0.097049   False               bagel  0.085851   \n",
       "\n",
       "      p2_dog                           p3   p3_conf  p3_dog  \n",
       "2070    True  German_short-haired_pointer  0.175219    True  \n",
       "2071    True                      spatula  0.040836   False  \n",
       "2072    True                       kelpie  0.031379    True  \n",
       "2073    True                     papillon  0.068957    True  \n",
       "2074   False                       banana  0.076110   False  "
      ]
     },
     "execution_count": 18,
     "metadata": {},
     "output_type": "execute_result"
    }
   ],
   "source": [
    "# view the first 5 rows of the dataset.\n",
    "img_prediction.tail()"
   ]
  },
  {
   "cell_type": "markdown",
   "metadata": {},
   "source": [
    "There are three image predictions. One Prediction is enough, and we can use the one with the highest confidence level."
   ]
  },
  {
   "cell_type": "code",
   "execution_count": 19,
   "metadata": {
    "scrolled": true
   },
   "outputs": [
    {
     "name": "stdout",
     "output_type": "stream",
     "text": [
      "<class 'pandas.core.frame.DataFrame'>\n",
      "RangeIndex: 2075 entries, 0 to 2074\n",
      "Data columns (total 12 columns):\n",
      " #   Column    Non-Null Count  Dtype  \n",
      "---  ------    --------------  -----  \n",
      " 0   tweet_id  2075 non-null   int64  \n",
      " 1   jpg_url   2075 non-null   object \n",
      " 2   img_num   2075 non-null   int64  \n",
      " 3   p1        2075 non-null   object \n",
      " 4   p1_conf   2075 non-null   float64\n",
      " 5   p1_dog    2075 non-null   bool   \n",
      " 6   p2        2075 non-null   object \n",
      " 7   p2_conf   2075 non-null   float64\n",
      " 8   p2_dog    2075 non-null   bool   \n",
      " 9   p3        2075 non-null   object \n",
      " 10  p3_conf   2075 non-null   float64\n",
      " 11  p3_dog    2075 non-null   bool   \n",
      "dtypes: bool(3), float64(3), int64(2), object(4)\n",
      "memory usage: 152.1+ KB\n"
     ]
    }
   ],
   "source": [
    "# Show concise summary of the dataframe.\n",
    "img_prediction.info()"
   ]
  },
  {
   "cell_type": "markdown",
   "metadata": {},
   "source": [
    "* tweet_id datatype is an integer instead of string."
   ]
  },
  {
   "cell_type": "code",
   "execution_count": 20,
   "metadata": {},
   "outputs": [
    {
     "name": "stdout",
     "output_type": "stream",
     "text": [
      "False\n",
      "False\n",
      "False\n",
      "0\n",
      "0\n"
     ]
    }
   ],
   "source": [
    "# Check whether all values in columns 'p1_conf, p2_conf, and p3_conf' are equal.\n",
    "print(img_prediction['p1_conf'].equals(img_prediction['p2_conf']))\n",
    "print(img_prediction['p1_conf'].equals(img_prediction['p3_conf']))\n",
    "print(img_prediction['p2_conf'].equals(img_prediction['p3_conf']))\n",
    "\n",
    "# Check whether there are values in columns 'P2_conf and p3_conf' that are greater than those in column 'p1_conf'.\n",
    "print(sum(img_prediction['p1_conf'] < img_prediction['p2_conf']))\n",
    "print(sum(img_prediction['p1_conf'] < img_prediction['p3_conf']))"
   ]
  },
  {
   "cell_type": "markdown",
   "metadata": {},
   "source": [
    "The above output shows that:\n",
    "1. All values in columns `p1_conf, p2_conf, and p3_conf` are not equal.\n",
    "2. All values in column `p1_conf` are greater than those in columns `p2_conf and p3_conf`.\n"
   ]
  },
  {
   "cell_type": "markdown",
   "metadata": {},
   "source": [
    "<a id='assessing-3'></a>\n",
    "### 3.3. Assessing Data from the Twitter API"
   ]
  },
  {
   "cell_type": "code",
   "execution_count": 21,
   "metadata": {},
   "outputs": [
    {
     "data": {
      "text/html": [
       "<div>\n",
       "<style scoped>\n",
       "    .dataframe tbody tr th:only-of-type {\n",
       "        vertical-align: middle;\n",
       "    }\n",
       "\n",
       "    .dataframe tbody tr th {\n",
       "        vertical-align: top;\n",
       "    }\n",
       "\n",
       "    .dataframe thead th {\n",
       "        text-align: right;\n",
       "    }\n",
       "</style>\n",
       "<table border=\"1\" class=\"dataframe\">\n",
       "  <thead>\n",
       "    <tr style=\"text-align: right;\">\n",
       "      <th></th>\n",
       "      <th>id</th>\n",
       "      <th>retweet_count</th>\n",
       "      <th>favorite_count</th>\n",
       "    </tr>\n",
       "  </thead>\n",
       "  <tbody>\n",
       "    <tr>\n",
       "      <th>0</th>\n",
       "      <td>892420643555336193</td>\n",
       "      <td>8853</td>\n",
       "      <td>39467</td>\n",
       "    </tr>\n",
       "    <tr>\n",
       "      <th>1</th>\n",
       "      <td>892177421306343426</td>\n",
       "      <td>6514</td>\n",
       "      <td>33819</td>\n",
       "    </tr>\n",
       "    <tr>\n",
       "      <th>2</th>\n",
       "      <td>891815181378084864</td>\n",
       "      <td>4328</td>\n",
       "      <td>25461</td>\n",
       "    </tr>\n",
       "    <tr>\n",
       "      <th>3</th>\n",
       "      <td>891689557279858688</td>\n",
       "      <td>8964</td>\n",
       "      <td>42908</td>\n",
       "    </tr>\n",
       "    <tr>\n",
       "      <th>4</th>\n",
       "      <td>891327558926688256</td>\n",
       "      <td>9774</td>\n",
       "      <td>41048</td>\n",
       "    </tr>\n",
       "    <tr>\n",
       "      <th>5</th>\n",
       "      <td>891087950875897856</td>\n",
       "      <td>3261</td>\n",
       "      <td>20562</td>\n",
       "    </tr>\n",
       "    <tr>\n",
       "      <th>6</th>\n",
       "      <td>890971913173991426</td>\n",
       "      <td>2158</td>\n",
       "      <td>12041</td>\n",
       "    </tr>\n",
       "    <tr>\n",
       "      <th>7</th>\n",
       "      <td>890729181411237888</td>\n",
       "      <td>16716</td>\n",
       "      <td>56848</td>\n",
       "    </tr>\n",
       "    <tr>\n",
       "      <th>8</th>\n",
       "      <td>890609185150312448</td>\n",
       "      <td>4429</td>\n",
       "      <td>28226</td>\n",
       "    </tr>\n",
       "    <tr>\n",
       "      <th>9</th>\n",
       "      <td>890240255349198849</td>\n",
       "      <td>7711</td>\n",
       "      <td>32467</td>\n",
       "    </tr>\n",
       "  </tbody>\n",
       "</table>\n",
       "</div>"
      ],
      "text/plain": [
       "                   id  retweet_count  favorite_count\n",
       "0  892420643555336193           8853           39467\n",
       "1  892177421306343426           6514           33819\n",
       "2  891815181378084864           4328           25461\n",
       "3  891689557279858688           8964           42908\n",
       "4  891327558926688256           9774           41048\n",
       "5  891087950875897856           3261           20562\n",
       "6  890971913173991426           2158           12041\n",
       "7  890729181411237888          16716           56848\n",
       "8  890609185150312448           4429           28226\n",
       "9  890240255349198849           7711           32467"
      ]
     },
     "execution_count": 21,
     "metadata": {},
     "output_type": "execute_result"
    }
   ],
   "source": [
    "# view the first 10 rows of the dataset.\n",
    "tweet_counts.head(10)"
   ]
  },
  {
   "cell_type": "code",
   "execution_count": 22,
   "metadata": {},
   "outputs": [
    {
     "data": {
      "text/html": [
       "<div>\n",
       "<style scoped>\n",
       "    .dataframe tbody tr th:only-of-type {\n",
       "        vertical-align: middle;\n",
       "    }\n",
       "\n",
       "    .dataframe tbody tr th {\n",
       "        vertical-align: top;\n",
       "    }\n",
       "\n",
       "    .dataframe thead th {\n",
       "        text-align: right;\n",
       "    }\n",
       "</style>\n",
       "<table border=\"1\" class=\"dataframe\">\n",
       "  <thead>\n",
       "    <tr style=\"text-align: right;\">\n",
       "      <th></th>\n",
       "      <th>id</th>\n",
       "      <th>retweet_count</th>\n",
       "      <th>favorite_count</th>\n",
       "    </tr>\n",
       "  </thead>\n",
       "  <tbody>\n",
       "    <tr>\n",
       "      <th>2344</th>\n",
       "      <td>666058600524156928</td>\n",
       "      <td>61</td>\n",
       "      <td>115</td>\n",
       "    </tr>\n",
       "    <tr>\n",
       "      <th>2345</th>\n",
       "      <td>666057090499244032</td>\n",
       "      <td>146</td>\n",
       "      <td>304</td>\n",
       "    </tr>\n",
       "    <tr>\n",
       "      <th>2346</th>\n",
       "      <td>666055525042405380</td>\n",
       "      <td>261</td>\n",
       "      <td>448</td>\n",
       "    </tr>\n",
       "    <tr>\n",
       "      <th>2347</th>\n",
       "      <td>666051853826850816</td>\n",
       "      <td>879</td>\n",
       "      <td>1253</td>\n",
       "    </tr>\n",
       "    <tr>\n",
       "      <th>2348</th>\n",
       "      <td>666050758794694657</td>\n",
       "      <td>60</td>\n",
       "      <td>136</td>\n",
       "    </tr>\n",
       "    <tr>\n",
       "      <th>2349</th>\n",
       "      <td>666049248165822465</td>\n",
       "      <td>41</td>\n",
       "      <td>111</td>\n",
       "    </tr>\n",
       "    <tr>\n",
       "      <th>2350</th>\n",
       "      <td>666044226329800704</td>\n",
       "      <td>147</td>\n",
       "      <td>311</td>\n",
       "    </tr>\n",
       "    <tr>\n",
       "      <th>2351</th>\n",
       "      <td>666033412701032449</td>\n",
       "      <td>47</td>\n",
       "      <td>128</td>\n",
       "    </tr>\n",
       "    <tr>\n",
       "      <th>2352</th>\n",
       "      <td>666029285002620928</td>\n",
       "      <td>48</td>\n",
       "      <td>132</td>\n",
       "    </tr>\n",
       "    <tr>\n",
       "      <th>2353</th>\n",
       "      <td>666020888022790149</td>\n",
       "      <td>532</td>\n",
       "      <td>2535</td>\n",
       "    </tr>\n",
       "  </tbody>\n",
       "</table>\n",
       "</div>"
      ],
      "text/plain": [
       "                      id  retweet_count  favorite_count\n",
       "2344  666058600524156928             61             115\n",
       "2345  666057090499244032            146             304\n",
       "2346  666055525042405380            261             448\n",
       "2347  666051853826850816            879            1253\n",
       "2348  666050758794694657             60             136\n",
       "2349  666049248165822465             41             111\n",
       "2350  666044226329800704            147             311\n",
       "2351  666033412701032449             47             128\n",
       "2352  666029285002620928             48             132\n",
       "2353  666020888022790149            532            2535"
      ]
     },
     "execution_count": 22,
     "metadata": {},
     "output_type": "execute_result"
    }
   ],
   "source": [
    "# view the last 10 rows of the dataset.\n",
    "tweet_counts.tail(10)"
   ]
  },
  {
   "cell_type": "code",
   "execution_count": 23,
   "metadata": {
    "scrolled": true
   },
   "outputs": [
    {
     "name": "stdout",
     "output_type": "stream",
     "text": [
      "<class 'pandas.core.frame.DataFrame'>\n",
      "RangeIndex: 2354 entries, 0 to 2353\n",
      "Data columns (total 3 columns):\n",
      " #   Column          Non-Null Count  Dtype\n",
      "---  ------          --------------  -----\n",
      " 0   id              2354 non-null   int64\n",
      " 1   retweet_count   2354 non-null   int64\n",
      " 2   favorite_count  2354 non-null   int64\n",
      "dtypes: int64(3)\n",
      "memory usage: 55.3 KB\n"
     ]
    }
   ],
   "source": [
    "# Show concise summary of the dataframe.\n",
    "tweet_counts.info()"
   ]
  },
  {
   "cell_type": "markdown",
   "metadata": {},
   "source": [
    "* id datatype should be a string instead of integer.\n",
    "* id column should be labeled as *tweet_id* to create consistency across all three dataframes."
   ]
  },
  {
   "cell_type": "markdown",
   "metadata": {},
   "source": [
    "The datasets gathered and assessed are from the same observational unit, but they are in three separate dataframes. This is a tidiness issue.\n"
   ]
  },
  {
   "cell_type": "markdown",
   "metadata": {},
   "source": [
    "<a id='summary'></a>\n",
    "### 3.4. Summary of Identified Quality and Tidiness Issues\n",
    "\n",
    "**After assessing the datasets using visual and programmatic assessments, we have idetified the following quality issues:**\n",
    "\n",
    "**`Twitter archive` dataframe:**\n",
    "\n",
    "1. tweet_id is a float instead of string.\n",
    "2. timestamp is a string not a datetime datatype.\n",
    "3. Non-names in the name column, e.g. a, an, the, by, his.\n",
    "4. Dog stage columns (doggo, floofer, pupper, and puppo) are string instead of categorical datatype.\n",
    "5. Duplicate tweets (181 retweets).\n",
    "\n",
    "**`Image predictions` dataframe:**\n",
    "\n",
    "6. tweet_id datatype is an integer instead of string.\n",
    "7. Multiple predictions (p1, p2, and p3).\n",
    "\n",
    "**`Tweet counts` dataframe:**\n",
    "\n",
    "8. id datatype should be a string instead of an integer.\n",
    "9. id column should be labeled as tweet_id.\n",
    "\n",
    "\n",
    "**We have also identified the following tidiness issues:**\n",
    "\n",
    "1. In `Twitter archive` dataframe, dog stages are in four separate columns instead of one column.\n",
    "2. All datasets are from the same observational unit, but they are in three separate dataframes.\n",
    "\n",
    "\n",
    "\n",
    "\n",
    "\n"
   ]
  },
  {
   "cell_type": "markdown",
   "metadata": {
    "extensions": {
     "jupyter_dashboards": {
      "version": 1,
      "views": {
       "grid_default": {
        "col": 4,
        "height": 4,
        "hidden": false,
        "row": 32,
        "width": 4
       },
       "report_default": {
        "hidden": false
       }
      }
     }
    }
   },
   "source": [
    "<a id='cleaning'></a>\n",
    "## 4. Cleaning Data\n"
   ]
  },
  {
   "cell_type": "markdown",
   "metadata": {},
   "source": [
    "In this section, we will clean the issues documented in the assessments section.\n",
    "\n",
    "We will clean the data programmatically using the following systematic cleaning process:\n",
    "1. **Define**: First, we define our data cleaning plan in writing. This will serve as a how-to guide that helps us and also a documentation for reproducibility purposes.\n",
    "2. **Code**: In this step, will will translate the definitions into code and then run it.\n",
    "3. **Test**: Finally, we will test our dataset using code. The purpose is to make sure that the cleaning code work properly.\n",
    "\n",
    "But, before starting the cleaning process, we have to make copies of our original datasets."
   ]
  },
  {
   "cell_type": "code",
   "execution_count": 24,
   "metadata": {},
   "outputs": [],
   "source": [
    "# Make copies of original datasets.\n",
    "twitter_archive_clean = twitter_archive.copy()\n",
    "img_prediction_clean = img_prediction.copy()\n",
    "tweet_counts_clean = tweet_counts.copy()"
   ]
  },
  {
   "cell_type": "markdown",
   "metadata": {},
   "source": [
    "We will clean quality issues first, and then the tidiness issues."
   ]
  },
  {
   "cell_type": "markdown",
   "metadata": {},
   "source": [
    "<a id='quality-issues'></a>\n",
    "### 4.1. Cleaning Quality Issues"
   ]
  },
  {
   "cell_type": "markdown",
   "metadata": {},
   "source": [
    "#### **`Twitter archive` dataframe:**"
   ]
  },
  {
   "cell_type": "markdown",
   "metadata": {},
   "source": [
    "#### Issue 1: tweet_id is a float instead of string."
   ]
  },
  {
   "cell_type": "markdown",
   "metadata": {},
   "source": [
    "##### Define:  \n",
    "Change tweet_id datatype to string."
   ]
  },
  {
   "cell_type": "markdown",
   "metadata": {},
   "source": [
    "#### Code"
   ]
  },
  {
   "cell_type": "code",
   "execution_count": 25,
   "metadata": {},
   "outputs": [],
   "source": [
    "# Convert `tweet_id` to string.\n",
    "twitter_archive_clean.tweet_id = twitter_archive_clean.tweet_id.astype(str)"
   ]
  },
  {
   "cell_type": "markdown",
   "metadata": {},
   "source": [
    "#### Test"
   ]
  },
  {
   "cell_type": "code",
   "execution_count": 26,
   "metadata": {},
   "outputs": [
    {
     "name": "stdout",
     "output_type": "stream",
     "text": [
      "<class 'pandas.core.series.Series'>\n",
      "RangeIndex: 2356 entries, 0 to 2355\n",
      "Series name: tweet_id\n",
      "Non-Null Count  Dtype \n",
      "--------------  ----- \n",
      "2356 non-null   object\n",
      "dtypes: object(1)\n",
      "memory usage: 18.5+ KB\n"
     ]
    }
   ],
   "source": [
    "# Check if cleaning code worked properly.\n",
    "twitter_archive_clean.tweet_id.info()"
   ]
  },
  {
   "cell_type": "markdown",
   "metadata": {},
   "source": [
    "#### Issue 2: timestamp is a string not a datetime datatype."
   ]
  },
  {
   "cell_type": "markdown",
   "metadata": {
    "collapsed": true,
    "extensions": {
     "jupyter_dashboards": {
      "version": 1,
      "views": {
       "grid_default": {
        "hidden": true
       },
       "report_default": {
        "hidden": true
       }
      }
     }
    }
   },
   "source": [
    "#### Define\n",
    "Change timestamp to datetime."
   ]
  },
  {
   "cell_type": "markdown",
   "metadata": {},
   "source": [
    "#### Code"
   ]
  },
  {
   "cell_type": "code",
   "execution_count": 27,
   "metadata": {},
   "outputs": [],
   "source": [
    "# Convert `timestamp` to datetime.\n",
    "twitter_archive_clean.timestamp = pd.to_datetime(twitter_archive_clean.timestamp)"
   ]
  },
  {
   "cell_type": "markdown",
   "metadata": {},
   "source": [
    "#### Test"
   ]
  },
  {
   "cell_type": "code",
   "execution_count": 28,
   "metadata": {},
   "outputs": [
    {
     "data": {
      "text/plain": [
       "datetime64[ns, UTC]"
      ]
     },
     "execution_count": 28,
     "metadata": {},
     "output_type": "execute_result"
    }
   ],
   "source": [
    "# Check if cleaning code worked correctly.\n",
    "twitter_archive_clean.timestamp.dtypes"
   ]
  },
  {
   "cell_type": "markdown",
   "metadata": {},
   "source": [
    "#### Issue 3: Non-names in the name column, e.g. a, an, the, by, his."
   ]
  },
  {
   "cell_type": "markdown",
   "metadata": {},
   "source": [
    "#### Define\n",
    "Replace non-names with *None*."
   ]
  },
  {
   "cell_type": "markdown",
   "metadata": {},
   "source": [
    "#### Code"
   ]
  },
  {
   "cell_type": "code",
   "execution_count": 29,
   "metadata": {},
   "outputs": [],
   "source": [
    "# Change non-names starting with small letters with None.\n",
    "twitter_archive_clean.name = twitter_archive_clean.name.str.replace('^[a-z]+', 'None')"
   ]
  },
  {
   "cell_type": "markdown",
   "metadata": {},
   "source": [
    "#### Test"
   ]
  },
  {
   "cell_type": "code",
   "execution_count": 30,
   "metadata": {},
   "outputs": [
    {
     "data": {
      "text/plain": [
       "None          854\n",
       "Charlie        12\n",
       "Lucy           11\n",
       "Cooper         11\n",
       "Oliver         11\n",
       "             ... \n",
       "Devón           1\n",
       "Gert            1\n",
       "Dex             1\n",
       "Ace             1\n",
       "Christoper      1\n",
       "Name: name, Length: 932, dtype: int64"
      ]
     },
     "execution_count": 30,
     "metadata": {},
     "output_type": "execute_result"
    }
   ],
   "source": [
    "# Check if changing occured correctly.\n",
    "twitter_archive_clean.name.value_counts()"
   ]
  },
  {
   "cell_type": "markdown",
   "metadata": {},
   "source": [
    "We can see that changes occured properly. The number of *None* enteries were 745 and now increased to 854."
   ]
  },
  {
   "cell_type": "markdown",
   "metadata": {},
   "source": [
    "#### Issue 4: Dog stage columns (doggo, floofer, pupper, and puppo) are string instead of categorical datatype."
   ]
  },
  {
   "cell_type": "markdown",
   "metadata": {},
   "source": [
    "#### Define\n",
    "Change dog stage columns (dogo, floofer, pupper, and puppo) to categorical datatype."
   ]
  },
  {
   "cell_type": "markdown",
   "metadata": {},
   "source": [
    "#### Code"
   ]
  },
  {
   "cell_type": "code",
   "execution_count": 31,
   "metadata": {},
   "outputs": [],
   "source": [
    "# Change dog stage columns to categorical datatype.\n",
    "twitter_archive_clean.doggo = twitter_archive_clean.doggo.astype('category')\n",
    "twitter_archive_clean.floofer = twitter_archive_clean.floofer.astype('category')\n",
    "twitter_archive_clean.pupper = twitter_archive_clean.pupper.astype('category')\n",
    "twitter_archive_clean.puppo = twitter_archive_clean.puppo.astype('category')"
   ]
  },
  {
   "cell_type": "markdown",
   "metadata": {},
   "source": [
    "#### Test"
   ]
  },
  {
   "cell_type": "code",
   "execution_count": 32,
   "metadata": {},
   "outputs": [
    {
     "name": "stdout",
     "output_type": "stream",
     "text": [
      "<class 'pandas.core.frame.DataFrame'>\n",
      "RangeIndex: 2356 entries, 0 to 2355\n",
      "Data columns (total 4 columns):\n",
      " #   Column   Non-Null Count  Dtype   \n",
      "---  ------   --------------  -----   \n",
      " 0   doggo    2356 non-null   category\n",
      " 1   floofer  2356 non-null   category\n",
      " 2   pupper   2356 non-null   category\n",
      " 3   puppo    2356 non-null   category\n",
      "dtypes: category(4)\n",
      "memory usage: 9.8 KB\n"
     ]
    }
   ],
   "source": [
    "# Check if datatype conversion occured properly.\n",
    "twitter_archive_clean[['doggo', 'floofer', 'pupper', 'puppo']].info()"
   ]
  },
  {
   "cell_type": "markdown",
   "metadata": {},
   "source": [
    "#### Issue 5: Duplicate tweets (181 retweets)."
   ]
  },
  {
   "cell_type": "markdown",
   "metadata": {},
   "source": [
    "#### Define\n",
    "Remove retweets from the dataset."
   ]
  },
  {
   "cell_type": "markdown",
   "metadata": {},
   "source": [
    "#### Code"
   ]
  },
  {
   "cell_type": "code",
   "execution_count": 33,
   "metadata": {},
   "outputs": [
    {
     "name": "stdout",
     "output_type": "stream",
     "text": [
      "<class 'pandas.core.frame.DataFrame'>\n",
      "RangeIndex: 2356 entries, 0 to 2355\n",
      "Data columns (total 17 columns):\n",
      " #   Column                      Non-Null Count  Dtype              \n",
      "---  ------                      --------------  -----              \n",
      " 0   tweet_id                    2356 non-null   object             \n",
      " 1   in_reply_to_status_id       78 non-null     float64            \n",
      " 2   in_reply_to_user_id         78 non-null     float64            \n",
      " 3   timestamp                   2356 non-null   datetime64[ns, UTC]\n",
      " 4   source                      2356 non-null   object             \n",
      " 5   text                        2356 non-null   object             \n",
      " 6   retweeted_status_id         181 non-null    float64            \n",
      " 7   retweeted_status_user_id    181 non-null    float64            \n",
      " 8   retweeted_status_timestamp  181 non-null    object             \n",
      " 9   expanded_urls               2297 non-null   object             \n",
      " 10  rating_numerator            2356 non-null   int64              \n",
      " 11  rating_denominator          2356 non-null   int64              \n",
      " 12  name                        2356 non-null   object             \n",
      " 13  doggo                       2356 non-null   category           \n",
      " 14  floofer                     2356 non-null   category           \n",
      " 15  pupper                      2356 non-null   category           \n",
      " 16  puppo                       2356 non-null   category           \n",
      "dtypes: category(4), datetime64[ns, UTC](1), float64(4), int64(2), object(6)\n",
      "memory usage: 249.1+ KB\n"
     ]
    }
   ],
   "source": [
    "# Summary of dataframe before removing retweets.\n",
    "twitter_archive_clean.info()"
   ]
  },
  {
   "cell_type": "code",
   "execution_count": 34,
   "metadata": {},
   "outputs": [],
   "source": [
    "# Remove retweets by filtering the missing values of the `retweeted_status_id'.\n",
    "twitter_archive_clean = twitter_archive_clean[pd.isnull(twitter_archive_clean['retweeted_status_id'])]\n",
    "\n",
    "# Drop columns related to retweeted status.\n",
    "twitter_archive_clean.drop(['retweeted_status_id', 'retweeted_status_user_id',\n",
    "                            'retweeted_status_timestamp'], axis = 1, inplace=True)"
   ]
  },
  {
   "cell_type": "markdown",
   "metadata": {},
   "source": [
    "#### Test"
   ]
  },
  {
   "cell_type": "code",
   "execution_count": 35,
   "metadata": {},
   "outputs": [
    {
     "name": "stdout",
     "output_type": "stream",
     "text": [
      "<class 'pandas.core.frame.DataFrame'>\n",
      "Int64Index: 2175 entries, 0 to 2355\n",
      "Data columns (total 14 columns):\n",
      " #   Column                 Non-Null Count  Dtype              \n",
      "---  ------                 --------------  -----              \n",
      " 0   tweet_id               2175 non-null   object             \n",
      " 1   in_reply_to_status_id  78 non-null     float64            \n",
      " 2   in_reply_to_user_id    78 non-null     float64            \n",
      " 3   timestamp              2175 non-null   datetime64[ns, UTC]\n",
      " 4   source                 2175 non-null   object             \n",
      " 5   text                   2175 non-null   object             \n",
      " 6   expanded_urls          2117 non-null   object             \n",
      " 7   rating_numerator       2175 non-null   int64              \n",
      " 8   rating_denominator     2175 non-null   int64              \n",
      " 9   name                   2175 non-null   object             \n",
      " 10  doggo                  2175 non-null   category           \n",
      " 11  floofer                2175 non-null   category           \n",
      " 12  pupper                 2175 non-null   category           \n",
      " 13  puppo                  2175 non-null   category           \n",
      "dtypes: category(4), datetime64[ns, UTC](1), float64(2), int64(2), object(5)\n",
      "memory usage: 195.9+ KB\n"
     ]
    }
   ],
   "source": [
    "# Summary of dataframe after removing retweets.\n",
    "twitter_archive_clean.info()"
   ]
  },
  {
   "cell_type": "markdown",
   "metadata": {},
   "source": [
    "We can see that the retweets were removed correclty."
   ]
  },
  {
   "cell_type": "markdown",
   "metadata": {},
   "source": [
    "#### **`Image predictions` dataframe:**"
   ]
  },
  {
   "cell_type": "markdown",
   "metadata": {},
   "source": [
    "#### Issue 6: tweet_id datatype is an integer instead of string."
   ]
  },
  {
   "cell_type": "markdown",
   "metadata": {},
   "source": [
    "#### Define\n",
    "Change tweet_id datatype to string."
   ]
  },
  {
   "cell_type": "markdown",
   "metadata": {},
   "source": [
    "#### Code"
   ]
  },
  {
   "cell_type": "code",
   "execution_count": 36,
   "metadata": {},
   "outputs": [],
   "source": [
    "# Convert `tweet_id` to string.\n",
    "img_prediction_clean.tweet_id = img_prediction_clean.tweet_id.astype(str)"
   ]
  },
  {
   "cell_type": "markdown",
   "metadata": {},
   "source": [
    "#### Test"
   ]
  },
  {
   "cell_type": "code",
   "execution_count": 37,
   "metadata": {},
   "outputs": [
    {
     "data": {
      "text/plain": [
       "dtype('O')"
      ]
     },
     "execution_count": 37,
     "metadata": {},
     "output_type": "execute_result"
    }
   ],
   "source": [
    "# Check if cleaning occured correctly.\n",
    "img_prediction_clean.tweet_id.dtypes"
   ]
  },
  {
   "cell_type": "markdown",
   "metadata": {},
   "source": [
    "#### Issue 7: Multiple predictions (p1, p2, and p3)."
   ]
  },
  {
   "cell_type": "markdown",
   "metadata": {},
   "source": [
    "#### Define\n",
    "Romove columns related to second and third predictions."
   ]
  },
  {
   "cell_type": "markdown",
   "metadata": {},
   "source": [
    "#### Code"
   ]
  },
  {
   "cell_type": "code",
   "execution_count": 38,
   "metadata": {},
   "outputs": [
    {
     "name": "stdout",
     "output_type": "stream",
     "text": [
      "<class 'pandas.core.frame.DataFrame'>\n",
      "RangeIndex: 2075 entries, 0 to 2074\n",
      "Data columns (total 12 columns):\n",
      " #   Column    Non-Null Count  Dtype  \n",
      "---  ------    --------------  -----  \n",
      " 0   tweet_id  2075 non-null   object \n",
      " 1   jpg_url   2075 non-null   object \n",
      " 2   img_num   2075 non-null   int64  \n",
      " 3   p1        2075 non-null   object \n",
      " 4   p1_conf   2075 non-null   float64\n",
      " 5   p1_dog    2075 non-null   bool   \n",
      " 6   p2        2075 non-null   object \n",
      " 7   p2_conf   2075 non-null   float64\n",
      " 8   p2_dog    2075 non-null   bool   \n",
      " 9   p3        2075 non-null   object \n",
      " 10  p3_conf   2075 non-null   float64\n",
      " 11  p3_dog    2075 non-null   bool   \n",
      "dtypes: bool(3), float64(3), int64(1), object(5)\n",
      "memory usage: 152.1+ KB\n"
     ]
    }
   ],
   "source": [
    "# Summary of dataframe before removing columns.\n",
    "img_prediction_clean.info()"
   ]
  },
  {
   "cell_type": "code",
   "execution_count": 39,
   "metadata": {},
   "outputs": [],
   "source": [
    "# Remove columns related to second and third predictions.\n",
    "img_prediction_clean.drop(['p2', 'p2_conf', 'p2_dog', 'p3', 'p3_conf', 'p3_dog'], axis = 1, inplace=True)"
   ]
  },
  {
   "cell_type": "markdown",
   "metadata": {},
   "source": [
    "#### Test"
   ]
  },
  {
   "cell_type": "code",
   "execution_count": 40,
   "metadata": {},
   "outputs": [
    {
     "name": "stdout",
     "output_type": "stream",
     "text": [
      "<class 'pandas.core.frame.DataFrame'>\n",
      "RangeIndex: 2075 entries, 0 to 2074\n",
      "Data columns (total 6 columns):\n",
      " #   Column    Non-Null Count  Dtype  \n",
      "---  ------    --------------  -----  \n",
      " 0   tweet_id  2075 non-null   object \n",
      " 1   jpg_url   2075 non-null   object \n",
      " 2   img_num   2075 non-null   int64  \n",
      " 3   p1        2075 non-null   object \n",
      " 4   p1_conf   2075 non-null   float64\n",
      " 5   p1_dog    2075 non-null   bool   \n",
      "dtypes: bool(1), float64(1), int64(1), object(3)\n",
      "memory usage: 83.2+ KB\n"
     ]
    }
   ],
   "source": [
    "# Summary of dataframe after removing columns.\n",
    "img_prediction_clean.info()"
   ]
  },
  {
   "cell_type": "markdown",
   "metadata": {},
   "source": [
    "#### **`Tweet counts` dataframe:**"
   ]
  },
  {
   "cell_type": "markdown",
   "metadata": {},
   "source": [
    "#### Issue 8: id datatype should be a string instead of an integer."
   ]
  },
  {
   "cell_type": "markdown",
   "metadata": {},
   "source": [
    "#### Define\n",
    "\n",
    "Covert id datatype to string."
   ]
  },
  {
   "cell_type": "markdown",
   "metadata": {},
   "source": [
    "#### Code"
   ]
  },
  {
   "cell_type": "code",
   "execution_count": 41,
   "metadata": {},
   "outputs": [],
   "source": [
    "# Convert `id` to string.\n",
    "tweet_counts_clean.id = tweet_counts_clean.id.astype(str)"
   ]
  },
  {
   "cell_type": "markdown",
   "metadata": {},
   "source": [
    "#### Test"
   ]
  },
  {
   "cell_type": "code",
   "execution_count": 42,
   "metadata": {},
   "outputs": [
    {
     "data": {
      "text/plain": [
       "dtype('O')"
      ]
     },
     "execution_count": 42,
     "metadata": {},
     "output_type": "execute_result"
    }
   ],
   "source": [
    "# Check if conversion occured correctly.\n",
    "tweet_counts_clean.id.dtypes"
   ]
  },
  {
   "cell_type": "markdown",
   "metadata": {},
   "source": [
    "#### Issue 9: id column should be labeled as tweet_id."
   ]
  },
  {
   "cell_type": "markdown",
   "metadata": {},
   "source": [
    "#### Define\n",
    "\n",
    "Change id column label from `id` to `tweet_id`."
   ]
  },
  {
   "cell_type": "markdown",
   "metadata": {},
   "source": [
    "#### Code"
   ]
  },
  {
   "cell_type": "code",
   "execution_count": 43,
   "metadata": {},
   "outputs": [],
   "source": [
    "# Change coloum label from 'id' to 'tweet_id'\n",
    "tweet_counts_clean.rename(columns = {'id' : 'tweet_id'}, inplace = True)"
   ]
  },
  {
   "cell_type": "markdown",
   "metadata": {},
   "source": [
    "#### Test"
   ]
  },
  {
   "cell_type": "code",
   "execution_count": 44,
   "metadata": {},
   "outputs": [
    {
     "name": "stdout",
     "output_type": "stream",
     "text": [
      "<class 'pandas.core.series.Series'>\n",
      "RangeIndex: 2354 entries, 0 to 2353\n",
      "Series name: tweet_id\n",
      "Non-Null Count  Dtype \n",
      "--------------  ----- \n",
      "2354 non-null   object\n",
      "dtypes: object(1)\n",
      "memory usage: 18.5+ KB\n"
     ]
    }
   ],
   "source": [
    "# Check if changing occured correctly.\n",
    "tweet_counts_clean.tweet_id.info()"
   ]
  },
  {
   "cell_type": "markdown",
   "metadata": {},
   "source": [
    "Column label was changed correctly. We can see that the *Series* name is `tweet_id`."
   ]
  },
  {
   "cell_type": "markdown",
   "metadata": {},
   "source": [
    "<a id='tidiness-issues'></a>\n",
    "### 4.2. Cleaning Tidiness Issues"
   ]
  },
  {
   "cell_type": "markdown",
   "metadata": {},
   "source": [
    "#### Issue 1: In `Twitter archive` dataframe, dog stages are in four separate columns instead of one column."
   ]
  },
  {
   "cell_type": "markdown",
   "metadata": {},
   "source": [
    "#### Define\n",
    "\n",
    "Combine all four dog stage columns into one column."
   ]
  },
  {
   "cell_type": "markdown",
   "metadata": {},
   "source": [
    "#### Code"
   ]
  },
  {
   "cell_type": "code",
   "execution_count": 45,
   "metadata": {},
   "outputs": [
    {
     "data": {
      "text/html": [
       "<div>\n",
       "<style scoped>\n",
       "    .dataframe tbody tr th:only-of-type {\n",
       "        vertical-align: middle;\n",
       "    }\n",
       "\n",
       "    .dataframe tbody tr th {\n",
       "        vertical-align: top;\n",
       "    }\n",
       "\n",
       "    .dataframe thead th {\n",
       "        text-align: right;\n",
       "    }\n",
       "</style>\n",
       "<table border=\"1\" class=\"dataframe\">\n",
       "  <thead>\n",
       "    <tr style=\"text-align: right;\">\n",
       "      <th></th>\n",
       "      <th>tweet_id</th>\n",
       "      <th>in_reply_to_status_id</th>\n",
       "      <th>in_reply_to_user_id</th>\n",
       "      <th>timestamp</th>\n",
       "      <th>source</th>\n",
       "      <th>text</th>\n",
       "      <th>expanded_urls</th>\n",
       "      <th>rating_numerator</th>\n",
       "      <th>rating_denominator</th>\n",
       "      <th>name</th>\n",
       "      <th>doggo</th>\n",
       "      <th>floofer</th>\n",
       "      <th>pupper</th>\n",
       "      <th>puppo</th>\n",
       "    </tr>\n",
       "  </thead>\n",
       "  <tbody>\n",
       "    <tr>\n",
       "      <th>1020</th>\n",
       "      <td>746757706116112384</td>\n",
       "      <td>NaN</td>\n",
       "      <td>NaN</td>\n",
       "      <td>2016-06-25 17:31:25+00:00</td>\n",
       "      <td>&lt;a href=\"http://vine.co\" rel=\"nofollow\"&gt;Vine -...</td>\n",
       "      <td>This is Maddie. She gets some wicked air time....</td>\n",
       "      <td>https://vine.co/v/5BYq6hmrEI3</td>\n",
       "      <td>11</td>\n",
       "      <td>10</td>\n",
       "      <td>Maddie</td>\n",
       "      <td>None</td>\n",
       "      <td>None</td>\n",
       "      <td>None</td>\n",
       "      <td>None</td>\n",
       "    </tr>\n",
       "  </tbody>\n",
       "</table>\n",
       "</div>"
      ],
      "text/plain": [
       "                tweet_id  in_reply_to_status_id  in_reply_to_user_id  \\\n",
       "1020  746757706116112384                    NaN                  NaN   \n",
       "\n",
       "                     timestamp  \\\n",
       "1020 2016-06-25 17:31:25+00:00   \n",
       "\n",
       "                                                 source  \\\n",
       "1020  <a href=\"http://vine.co\" rel=\"nofollow\">Vine -...   \n",
       "\n",
       "                                                   text  \\\n",
       "1020  This is Maddie. She gets some wicked air time....   \n",
       "\n",
       "                      expanded_urls  rating_numerator  rating_denominator  \\\n",
       "1020  https://vine.co/v/5BYq6hmrEI3                11                  10   \n",
       "\n",
       "        name doggo floofer pupper puppo  \n",
       "1020  Maddie  None    None   None  None  "
      ]
     },
     "execution_count": 45,
     "metadata": {},
     "output_type": "execute_result"
    }
   ],
   "source": [
    "twitter_archive_clean.sample()"
   ]
  },
  {
   "cell_type": "code",
   "execution_count": 46,
   "metadata": {},
   "outputs": [],
   "source": [
    "# Create a new column 'dog_stage' in the dataframe.\n",
    "# Extract dog stages from the 'text' column, and if found put them them in the 'dog_stage' column.\n",
    "twitter_archive_clean['dog_stage'] = twitter_archive_clean.text.str.extract('(doggo|floofer|pupper|puppo)', expand = True)\n",
    "\n",
    "# Drop 'doggo', 'floofer', 'pupper', and 'puppo' columns. They are not needed anymore.\n",
    "twitter_archive_clean = twitter_archive_clean.drop(['doggo','floofer','pupper','puppo'], axis=1)\n",
    "\n",
    "# Change dog stage column to categorical datatype.\n",
    "twitter_archive_clean.dog_stage = twitter_archive_clean.dog_stage.astype('category')"
   ]
  },
  {
   "cell_type": "markdown",
   "metadata": {},
   "source": [
    "#### Test"
   ]
  },
  {
   "cell_type": "code",
   "execution_count": 47,
   "metadata": {},
   "outputs": [
    {
     "data": {
      "text/html": [
       "<div>\n",
       "<style scoped>\n",
       "    .dataframe tbody tr th:only-of-type {\n",
       "        vertical-align: middle;\n",
       "    }\n",
       "\n",
       "    .dataframe tbody tr th {\n",
       "        vertical-align: top;\n",
       "    }\n",
       "\n",
       "    .dataframe thead th {\n",
       "        text-align: right;\n",
       "    }\n",
       "</style>\n",
       "<table border=\"1\" class=\"dataframe\">\n",
       "  <thead>\n",
       "    <tr style=\"text-align: right;\">\n",
       "      <th></th>\n",
       "      <th>tweet_id</th>\n",
       "      <th>in_reply_to_status_id</th>\n",
       "      <th>in_reply_to_user_id</th>\n",
       "      <th>timestamp</th>\n",
       "      <th>source</th>\n",
       "      <th>text</th>\n",
       "      <th>expanded_urls</th>\n",
       "      <th>rating_numerator</th>\n",
       "      <th>rating_denominator</th>\n",
       "      <th>name</th>\n",
       "      <th>dog_stage</th>\n",
       "    </tr>\n",
       "  </thead>\n",
       "  <tbody>\n",
       "    <tr>\n",
       "      <th>1547</th>\n",
       "      <td>689280876073582592</td>\n",
       "      <td>NaN</td>\n",
       "      <td>NaN</td>\n",
       "      <td>2016-01-19 02:59:01+00:00</td>\n",
       "      <td>&lt;a href=\"http://twitter.com/download/iphone\" r...</td>\n",
       "      <td>This is Herald. He wants you to know he could ...</td>\n",
       "      <td>https://twitter.com/dog_rates/status/689280876...</td>\n",
       "      <td>10</td>\n",
       "      <td>10</td>\n",
       "      <td>Herald</td>\n",
       "      <td>NaN</td>\n",
       "    </tr>\n",
       "  </tbody>\n",
       "</table>\n",
       "</div>"
      ],
      "text/plain": [
       "                tweet_id  in_reply_to_status_id  in_reply_to_user_id  \\\n",
       "1547  689280876073582592                    NaN                  NaN   \n",
       "\n",
       "                     timestamp  \\\n",
       "1547 2016-01-19 02:59:01+00:00   \n",
       "\n",
       "                                                 source  \\\n",
       "1547  <a href=\"http://twitter.com/download/iphone\" r...   \n",
       "\n",
       "                                                   text  \\\n",
       "1547  This is Herald. He wants you to know he could ...   \n",
       "\n",
       "                                          expanded_urls  rating_numerator  \\\n",
       "1547  https://twitter.com/dog_rates/status/689280876...                10   \n",
       "\n",
       "      rating_denominator    name dog_stage  \n",
       "1547                  10  Herald       NaN  "
      ]
     },
     "execution_count": 47,
     "metadata": {},
     "output_type": "execute_result"
    }
   ],
   "source": [
    "twitter_archive_clean.sample()"
   ]
  },
  {
   "cell_type": "code",
   "execution_count": 48,
   "metadata": {},
   "outputs": [
    {
     "data": {
      "text/plain": [
       "CategoricalDtype(categories=['doggo', 'floofer', 'pupper', 'puppo'], ordered=False)"
      ]
     },
     "execution_count": 48,
     "metadata": {},
     "output_type": "execute_result"
    }
   ],
   "source": [
    "# Check 'dog_stage' column datatype.\n",
    "twitter_archive_clean.dog_stage.dtypes"
   ]
  },
  {
   "cell_type": "markdown",
   "metadata": {},
   "source": [
    "The output above shows that `dog_stage` column was created and populated with the stage names."
   ]
  },
  {
   "cell_type": "markdown",
   "metadata": {},
   "source": [
    "#### Issue 2: All datasets are from the same observational unit, but they are in three separate dataframes."
   ]
  },
  {
   "cell_type": "markdown",
   "metadata": {},
   "source": [
    "#### Define\n",
    "\n",
    "Merge all three dataframes into a master dataset based on `tweet_id`."
   ]
  },
  {
   "cell_type": "markdown",
   "metadata": {},
   "source": [
    "#### Code"
   ]
  },
  {
   "cell_type": "code",
   "execution_count": 49,
   "metadata": {},
   "outputs": [],
   "source": [
    "# Merge dataframes.\n",
    "# We didn't specify the type of joining, becuase we wanted to use the default (how = 'inner') to 'use intersection of keys from dataframes'.\n",
    "master_data = pd.merge(twitter_archive_clean, tweet_counts_clean, on = 'tweet_id')\n",
    "master_data = pd.merge(master_data, img_prediction_clean, on = 'tweet_id')"
   ]
  },
  {
   "cell_type": "markdown",
   "metadata": {},
   "source": [
    "#### Test"
   ]
  },
  {
   "cell_type": "code",
   "execution_count": 50,
   "metadata": {
    "scrolled": true
   },
   "outputs": [
    {
     "name": "stdout",
     "output_type": "stream",
     "text": [
      "<class 'pandas.core.frame.DataFrame'>\n",
      "Int64Index: 1994 entries, 0 to 1993\n",
      "Data columns (total 18 columns):\n",
      " #   Column                 Non-Null Count  Dtype              \n",
      "---  ------                 --------------  -----              \n",
      " 0   tweet_id               1994 non-null   object             \n",
      " 1   in_reply_to_status_id  23 non-null     float64            \n",
      " 2   in_reply_to_user_id    23 non-null     float64            \n",
      " 3   timestamp              1994 non-null   datetime64[ns, UTC]\n",
      " 4   source                 1994 non-null   object             \n",
      " 5   text                   1994 non-null   object             \n",
      " 6   expanded_urls          1994 non-null   object             \n",
      " 7   rating_numerator       1994 non-null   int64              \n",
      " 8   rating_denominator     1994 non-null   int64              \n",
      " 9   name                   1994 non-null   object             \n",
      " 10  dog_stage              326 non-null    category           \n",
      " 11  retweet_count          1994 non-null   int64              \n",
      " 12  favorite_count         1994 non-null   int64              \n",
      " 13  jpg_url                1994 non-null   object             \n",
      " 14  img_num                1994 non-null   int64              \n",
      " 15  p1                     1994 non-null   object             \n",
      " 16  p1_conf                1994 non-null   float64            \n",
      " 17  p1_dog                 1994 non-null   bool               \n",
      "dtypes: bool(1), category(1), datetime64[ns, UTC](1), float64(3), int64(5), object(7)\n",
      "memory usage: 268.9+ KB\n"
     ]
    }
   ],
   "source": [
    "# Show summary of dataframe to check whether merging occured.\n",
    "master_data.info()"
   ]
  },
  {
   "cell_type": "markdown",
   "metadata": {},
   "source": [
    "The output above shows that all three dataframes were merged."
   ]
  },
  {
   "cell_type": "markdown",
   "metadata": {},
   "source": [
    "<a id='storing-data'></a>\n",
    "### 4.3. Storing Data\n",
    "Now, we will save the *master data* to a CSV file.\n"
   ]
  },
  {
   "cell_type": "code",
   "execution_count": 51,
   "metadata": {},
   "outputs": [],
   "source": [
    "master_data.to_csv('twitter_archive_master.csv', index = False)"
   ]
  },
  {
   "cell_type": "markdown",
   "metadata": {},
   "source": [
    "<a id='analysis'></a>\n",
    "## 5. Analyzing and Visualizing Data\n"
   ]
  },
  {
   "cell_type": "markdown",
   "metadata": {},
   "source": [
    "In this section, we will analyze and visualize the wrangled data and then produce insights and visualizations."
   ]
  },
  {
   "cell_type": "code",
   "execution_count": 52,
   "metadata": {
    "scrolled": true
   },
   "outputs": [
    {
     "name": "stdout",
     "output_type": "stream",
     "text": [
      "<class 'pandas.core.frame.DataFrame'>\n",
      "RangeIndex: 1994 entries, 0 to 1993\n",
      "Data columns (total 18 columns):\n",
      " #   Column                 Non-Null Count  Dtype   \n",
      "---  ------                 --------------  -----   \n",
      " 0   tweet_id               1994 non-null   int64   \n",
      " 1   in_reply_to_status_id  23 non-null     float64 \n",
      " 2   in_reply_to_user_id    23 non-null     float64 \n",
      " 3   timestamp              1994 non-null   object  \n",
      " 4   source                 1994 non-null   object  \n",
      " 5   text                   1994 non-null   object  \n",
      " 6   expanded_urls          1994 non-null   object  \n",
      " 7   rating_numerator       1994 non-null   int64   \n",
      " 8   rating_denominator     1994 non-null   int64   \n",
      " 9   name                   1994 non-null   object  \n",
      " 10  dog_stage              326 non-null    category\n",
      " 11  retweet_count          1994 non-null   int64   \n",
      " 12  favorite_count         1994 non-null   int64   \n",
      " 13  jpg_url                1994 non-null   object  \n",
      " 14  img_num                1994 non-null   int64   \n",
      " 15  p1                     1994 non-null   object  \n",
      " 16  p1_conf                1994 non-null   float64 \n",
      " 17  p1_dog                 1994 non-null   bool    \n",
      "dtypes: bool(1), category(1), float64(3), int64(6), object(7)\n",
      "memory usage: 253.5+ KB\n"
     ]
    }
   ],
   "source": [
    "# Load dataset.\n",
    "master_data = pd.read_csv('twitter_archive_master.csv', dtype = {'dog_stage' : 'category'})\n",
    "\n",
    "# Show summary of dataframe.\n",
    "master_data.info()"
   ]
  },
  {
   "cell_type": "markdown",
   "metadata": {},
   "source": [
    "We are interested in answering the following:\n",
    "\n",
    "1. The percentage of dogs in each stage.\n",
    "2. The tweet with the highest retweet count and the tweet with the lowest retweet count.\n",
    "4. The relationship between retweet and favorite counts.\n"
   ]
  },
  {
   "cell_type": "markdown",
   "metadata": {},
   "source": [
    "### 5.1. The perecentage of dog stages."
   ]
  },
  {
   "cell_type": "code",
   "execution_count": 53,
   "metadata": {},
   "outputs": [
    {
     "data": {
      "text/plain": [
       "pupper     223\n",
       "doggo       72\n",
       "puppo       28\n",
       "floofer      3\n",
       "Name: dog_stage, dtype: int64"
      ]
     },
     "execution_count": 53,
     "metadata": {},
     "output_type": "execute_result"
    }
   ],
   "source": [
    "# Count the number of dogs in each stage.\n",
    "master_data.dog_stage.value_counts()"
   ]
  },
  {
   "cell_type": "code",
   "execution_count": 54,
   "metadata": {
    "scrolled": true
   },
   "outputs": [
    {
     "data": {
      "image/png": "[encoded data removed]",
      "text/plain": [
       "<Figure size 640x480 with 1 Axes>"
      ]
     },
     "metadata": {},
     "output_type": "display_data"
    }
   ],
   "source": [
    "# Visualize percentage of dog stages using pie chart.\n",
    "master_data.dog_stage.value_counts().plot(kind = 'pie', autopct='%1.1f%%', labels = None, legend = True)\n",
    "plt.title('Percentage of dogs according to their stage.', size = 13, y = 1)\n",
    "plt.tight_layout()\n",
    "plt.axis('equal')\n",
    "plt.ylabel('')\n",
    "plt.xlabel('')\n",
    "plt.show()"
   ]
  },
  {
   "cell_type": "markdown",
   "metadata": {},
   "source": [
    "The pie chart above illustrates that the dog stage with the highest percentage is Pupper (68.4%) whereas the one with the lowest percentage is Floofer (0.9%)."
   ]
  },
  {
   "cell_type": "markdown",
   "metadata": {},
   "source": [
    "### 5.2. The tweet with the highest retweet count and the one with the lowest retweet count."
   ]
  },
  {
   "cell_type": "code",
   "execution_count": 55,
   "metadata": {},
   "outputs": [
    {
     "data": {
      "text/plain": [
       "count     1994.000000\n",
       "mean      2766.753260\n",
       "std       4674.698447\n",
       "min         16.000000\n",
       "25%        624.750000\n",
       "50%       1359.500000\n",
       "75%       3220.000000\n",
       "max      79515.000000\n",
       "Name: retweet_count, dtype: float64"
      ]
     },
     "execution_count": 55,
     "metadata": {},
     "output_type": "execute_result"
    }
   ],
   "source": [
    "# View describtive statistics of the retweet count.\n",
    "master_data.retweet_count.describe()"
   ]
  },
  {
   "cell_type": "code",
   "execution_count": 56,
   "metadata": {},
   "outputs": [
    {
     "data": {
      "text/plain": [
       "[744234799360020481]"
      ]
     },
     "execution_count": 56,
     "metadata": {},
     "output_type": "execute_result"
    }
   ],
   "source": [
    "# View 'tweet_id' of the tweet with the highest retweet count.\n",
    "list(master_data[master_data['retweet_count'] == master_data['retweet_count'].max()].tweet_id)"
   ]
  },
  {
   "cell_type": "code",
   "execution_count": 57,
   "metadata": {},
   "outputs": [
    {
     "data": {
      "text/plain": [
       "[666102155909144576]"
      ]
     },
     "execution_count": 57,
     "metadata": {},
     "output_type": "execute_result"
    }
   ],
   "source": [
    "# View 'tweet_id' of the tweet with the lowest retweet count.\n",
    "list(master_data[master_data['retweet_count'] == master_data['retweet_count'].min()].tweet_id)"
   ]
  },
  {
   "cell_type": "markdown",
   "metadata": {},
   "source": [
    "The analysis above shows that the highest retweeted tweet has the tweet id `744234799360020481` and a retweet count of 79515, whereas the lowest retweeted tweet has the tweet id `666102155909144576` and a retweet count of 16."
   ]
  },
  {
   "cell_type": "markdown",
   "metadata": {},
   "source": [
    "### 5.3. The relationship between retweet and favorite counts."
   ]
  },
  {
   "cell_type": "code",
   "execution_count": 58,
   "metadata": {
    "scrolled": true
   },
   "outputs": [
    {
     "data": {
      "image/png": "[encoded data removed]",
      "text/plain": [
       "<Figure size 700x400 with 1 Axes>"
      ]
     },
     "metadata": {},
     "output_type": "display_data"
    }
   ],
   "source": [
    "# Visualize relationship between retweet count and favorite count using scatter plot.\n",
    "retweet = master_data.retweet_count\n",
    "favorite = master_data.favorite_count\n",
    "plt.figure(figsize = (7, 4))\n",
    "plt.scatter(retweet, favorite, color = 'orange')\n",
    "plt.title('Relationship between retweet and favorite counts.',  size=13, y=1.05)\n",
    "plt.xlabel('Retweet count', size = 11)\n",
    "plt.ylabel('Favorite count', size =11) \n",
    "plt.show()"
   ]
  },
  {
   "cell_type": "markdown",
   "metadata": {},
   "source": [
    "The scatter plot above shows that there is a positive correlation between retweet count and favorite count."
   ]
  },
  {
   "cell_type": "markdown",
   "metadata": {},
   "source": [
    "<a id='conclusion'></a>\n",
    "## 6. Conclusion"
   ]
  },
  {
   "cell_type": "markdown",
   "metadata": {},
   "source": [
    "In this project, we wrangled dataset of the Twitter user [@dog_rates](https://twitter.com/dog_rates), also known as [WeRateDogs](https://en.wikipedia.org/wiki/WeRateDogs). We have gathered, assessed, and cleaned three datasets using different methods and functions. Finally, we conducted analysis and visualization, and discoverd a number of insights."
   ]
  },
  {
   "cell_type": "markdown",
   "metadata": {},
   "source": [
    "<a id='references'></a>\n",
    "## 7. References"
   ]
  },
  {
   "cell_type": "markdown",
   "metadata": {},
   "source": [
    "1. https://pandas.pydata.org/docs/reference/api/pandas.DataFrame.to_csv.html\n",
    "2. https://pandas.pydata.org/docs/reference/api/pandas.DataFrame.drop.html\n",
    "3. https://stackoverflow.com/questions/17950374/converting-a-column-within-pandas-dataframe-from-int-to-string\n",
    "4. https://stackoverflow.com/questions/2385701/regular-expression-for-first-and-last-name\n",
    "5. https://dataindependent.com/pandas/pandas-change-column-names-3-methods/\n",
    "6. https://docs.python.org/3/library/warnings.html\n",
    "7. https://pandas.pydata.org/pandas-docs/stable/user_guide/merging.html\n",
    "8. https://stackoverflow.com/questions/12451431/loading-and-parsing-a-json-file-with-multiple-json-objects\n",
    "9. https://pandas.pydata.org/docs/user_guide/categorical.html\n",
    "10. https://pandas.pydata.org/docs/reference/api/pandas.Series.str.extract.html\n",
    "11. https://pandas.pydata.org/docs/reference/api/pandas.DataFrame.reset_index.html\n",
    "12. https://statisticsglobe.com/specify-dtype-when-reading-pandas-dataframe-from-csv-file-python\n",
    "\n"
   ]
  }
 ],
 "metadata": {
  "extensions": {
   "jupyter_dashboards": {
    "activeView": "report_default",
    "version": 1,
    "views": {
     "grid_default": {
      "cellMargin": 10,
      "defaultCellHeight": 20,
      "maxColumns": 12,
      "name": "grid",
      "type": "grid"
     },
     "report_default": {
      "name": "report",
      "type": "report"
     }
    }
   }
  },
  "kernelspec": {
   "display_name": "Python 3 (ipykernel)",
   "language": "python",
   "name": "python3"
  },
  "language_info": {
   "codemirror_mode": {
    "name": "ipython",
    "version": 3
   },
   "file_extension": ".py",
   "mimetype": "text/x-python",
   "name": "python",
   "nbconvert_exporter": "python",
   "pygments_lexer": "ipython3",
   "version": "3.9.13"
  }
 },
 "nbformat": 4,
 "nbformat_minor": 2
}
